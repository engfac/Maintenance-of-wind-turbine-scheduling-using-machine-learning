{
 "cells": [
  {
   "cell_type": "markdown",
   "id": "3c3bddc9",
   "metadata": {},
   "source": [
    "# LSTM"
   ]
  },
  {
   "cell_type": "code",
   "execution_count": 1,
   "id": "5ae4a458",
   "metadata": {},
   "outputs": [],
   "source": [
    "#importing the needed libraries\n",
    "\n",
    "import numpy as np\n",
    "import matplotlib.pyplot as plt\n",
    "from pandas import read_csv\n",
    "import math\n",
    "import pandas as pd"
   ]
  },
  {
   "cell_type": "code",
   "execution_count": 2,
   "id": "021fc1e5",
   "metadata": {},
   "outputs": [],
   "source": [
    "from keras.models import Sequential\n",
    "from keras.layers import Dense, SimpleRNN, LSTM\n",
    "from sklearn.preprocessing import MinMaxScaler\n",
    "from sklearn.metrics import mean_squared_error\n",
    "from keras.callbacks import ModelCheckpoint, EarlyStopping\n",
    "from sklearn.metrics import accuracy_score,r2_score,mean_absolute_error, mean_squared_error\n",
    "import sklearn.metrics as metrics\n",
    "from math import sqrt"
   ]
  },
  {
   "cell_type": "code",
   "execution_count": 3,
   "id": "98fac6e7",
   "metadata": {},
   "outputs": [
    {
     "data": {
      "text/plain": [
       "[<matplotlib.lines.Line2D at 0x18f06bb6280>]"
      ]
     },
     "execution_count": 3,
     "metadata": {},
     "output_type": "execute_result"
    },
    {
     "data": {
      "image/png": "[encoded data removed]",
      "text/plain": [
       "<Figure size 432x288 with 1 Axes>"
      ]
     },
     "metadata": {
      "needs_background": "light"
     },
     "output_type": "display_data"
    }
   ],
   "source": [
    "#loading the dataset of active power\n",
    "\n",
    "dataframe = read_csv('Hourly.csv', usecols=[1])\n",
    "plt.plot(dataframe)"
   ]
  },
  {
   "cell_type": "code",
   "execution_count": 4,
   "id": "e31ae608",
   "metadata": {},
   "outputs": [],
   "source": [
    "#Converting pandas dataframe to numpy array\n",
    "\n",
    "dataset = dataframe.values\n",
    "\n",
    "#Converting values to float\n",
    "\n",
    "dataset = dataset.astype('float32')"
   ]
  },
  {
   "cell_type": "code",
   "execution_count": 5,
   "id": "5e25ab8c",
   "metadata": {},
   "outputs": [],
   "source": [
    "#normalizing the dataset\n",
    "\n",
    "scaler = MinMaxScaler(feature_range=(0, 1)) \n",
    "dataset = scaler.fit_transform(dataset)"
   ]
  },
  {
   "cell_type": "code",
   "execution_count": 6,
   "id": "2946f80f",
   "metadata": {},
   "outputs": [],
   "source": [
    "#spliting into train and test sets\n",
    "\n",
    "train_size = int(len(dataset) * 0.66)\n",
    "test_size = len(dataset) - train_size\n",
    "train, test = dataset[0:train_size,:], dataset[train_size:len(dataset),:]"
   ]
  },
  {
   "cell_type": "code",
   "execution_count": 7,
   "id": "d12f4896",
   "metadata": {},
   "outputs": [],
   "source": [
    "#seq_size is the number of previous time steps to use as input variables to predict the next time period.\n",
    "#converting an array of values into a dataset matrix\n",
    "#X is the active power at a given time (t, t-1, t-2...) \n",
    "#Y is the active power at the next time (t + 1).\n",
    "\n",
    "def to_sequences(dataset, seq_size=1):\n",
    "    x = []\n",
    "    y = []\n",
    "\n",
    "    for i in range(len(dataset)-seq_size-1):\n",
    "        window = dataset[i:(i+seq_size), 0]\n",
    "        x.append(window)\n",
    "        y.append(dataset[i+seq_size, 0])\n",
    "        \n",
    "    return np.array(x),np.array(y)"
   ]
  },
  {
   "cell_type": "code",
   "execution_count": 8,
   "id": "5dae1107",
   "metadata": {},
   "outputs": [],
   "source": [
    "seq_size = 5\n",
    "trainX, trainY = to_sequences(train, seq_size)\n",
    "testX, testY = to_sequences(test, seq_size)"
   ]
  },
  {
   "cell_type": "code",
   "execution_count": 9,
   "id": "1b033551",
   "metadata": {},
   "outputs": [
    {
     "name": "stdout",
     "output_type": "stream",
     "text": [
      "Shape of training set: (5629, 5)\n",
      "Shape of test set: (2898, 5)\n"
     ]
    }
   ],
   "source": [
    "print(\"Shape of training set: {}\".format(trainX.shape))\n",
    "print(\"Shape of test set: {}\".format(testX.shape))"
   ]
  },
  {
   "cell_type": "code",
   "execution_count": 10,
   "id": "cfce555e",
   "metadata": {},
   "outputs": [],
   "source": [
    "# Reshaping input to be [samples, time steps, features]\n",
    "\n",
    "trainX = np.reshape(trainX, (trainX.shape[0], 1, trainX.shape[1]))\n",
    "testX = np.reshape(testX, (testX.shape[0], 1, testX.shape[1]))"
   ]
  },
  {
   "cell_type": "markdown",
   "id": "7ef92c59",
   "metadata": {},
   "source": [
    "# model building"
   ]
  },
  {
   "cell_type": "code",
   "execution_count": 11,
   "id": "5285d119",
   "metadata": {},
   "outputs": [],
   "source": [
    "#model = Sequential()\n",
    "#model.add(LSTM(64, input_shape=(None, seq_size)))\n",
    "#model.add(Dense(32))\n",
    "#model.add(Dense(1))\n",
    "#model.compile(loss='mean_squared_error', optimizer='adam')\n",
    "#monitor = EarlyStopping(monitor='val_loss', min_delta=1e-3, patience=20, verbose=1, mode='auto', restore_best_weights=True)\n",
    "#model.summary()"
   ]
  },
  {
   "cell_type": "code",
   "execution_count": 12,
   "id": "11db8085",
   "metadata": {},
   "outputs": [],
   "source": [
    "#model = Sequential()\n",
    "#model.add(LSTM(50, activation='relu', input_shape=(None, seq_size)))\n",
    "#model.add(Dense(1))\n",
    "#model.compile(optimizer='adam', loss='mse')"
   ]
  },
  {
   "cell_type": "code",
   "execution_count": 13,
   "id": "306aeee2",
   "metadata": {},
   "outputs": [],
   "source": [
    "model = Sequential()\n",
    "model.add(LSTM(50, activation='relu', return_sequences=True, input_shape=(None, seq_size)))\n",
    "model.add(LSTM(50, activation='relu'))\n",
    "model.add(Dense(1))\n",
    "model.compile(optimizer='adam', loss='mse')"
   ]
  },
  {
   "cell_type": "code",
   "execution_count": null,
   "id": "27aeb165",
   "metadata": {},
   "outputs": [
    {
     "name": "stdout",
     "output_type": "stream",
     "text": [
      "Epoch 1/300\n",
      "176/176 - 4s - loss: 0.0596 - val_loss: 0.0207 - 4s/epoch - 25ms/step\n",
      "Epoch 2/300\n",
      "176/176 - 1s - loss: 0.0143 - val_loss: 0.0157 - 687ms/epoch - 4ms/step\n",
      "Epoch 3/300\n",
      "176/176 - 1s - loss: 0.0117 - val_loss: 0.0141 - 707ms/epoch - 4ms/step\n",
      "Epoch 4/300\n",
      "176/176 - 1s - loss: 0.0107 - val_loss: 0.0138 - 714ms/epoch - 4ms/step\n",
      "Epoch 5/300\n",
      "176/176 - 1s - loss: 0.0102 - val_loss: 0.0134 - 707ms/epoch - 4ms/step\n",
      "Epoch 6/300\n",
      "176/176 - 1s - loss: 0.0100 - val_loss: 0.0134 - 670ms/epoch - 4ms/step\n",
      "Epoch 7/300\n",
      "176/176 - 1s - loss: 0.0099 - val_loss: 0.0133 - 672ms/epoch - 4ms/step\n",
      "Epoch 8/300\n",
      "176/176 - 1s - loss: 0.0099 - val_loss: 0.0141 - 672ms/epoch - 4ms/step\n",
      "Epoch 9/300\n",
      "176/176 - 1s - loss: 0.0099 - val_loss: 0.0132 - 668ms/epoch - 4ms/step\n",
      "Epoch 10/300\n",
      "176/176 - 1s - loss: 0.0099 - val_loss: 0.0137 - 691ms/epoch - 4ms/step\n",
      "Epoch 11/300\n",
      "176/176 - 1s - loss: 0.0099 - val_loss: 0.0134 - 675ms/epoch - 4ms/step\n",
      "Epoch 12/300\n",
      "176/176 - 1s - loss: 0.0098 - val_loss: 0.0139 - 694ms/epoch - 4ms/step\n",
      "Epoch 13/300\n",
      "176/176 - 1s - loss: 0.0098 - val_loss: 0.0131 - 666ms/epoch - 4ms/step\n",
      "Epoch 14/300\n",
      "176/176 - 1s - loss: 0.0098 - val_loss: 0.0132 - 715ms/epoch - 4ms/step\n",
      "Epoch 15/300\n",
      "176/176 - 1s - loss: 0.0098 - val_loss: 0.0134 - 670ms/epoch - 4ms/step\n",
      "Epoch 16/300\n",
      "176/176 - 1s - loss: 0.0098 - val_loss: 0.0131 - 673ms/epoch - 4ms/step\n",
      "Epoch 17/300\n",
      "176/176 - 1s - loss: 0.0098 - val_loss: 0.0131 - 685ms/epoch - 4ms/step\n",
      "Epoch 18/300\n",
      "176/176 - 1s - loss: 0.0098 - val_loss: 0.0141 - 703ms/epoch - 4ms/step\n",
      "Epoch 19/300\n",
      "176/176 - 1s - loss: 0.0099 - val_loss: 0.0131 - 735ms/epoch - 4ms/step\n",
      "Epoch 20/300\n",
      "176/176 - 1s - loss: 0.0098 - val_loss: 0.0134 - 673ms/epoch - 4ms/step\n",
      "Epoch 21/300\n",
      "176/176 - 1s - loss: 0.0098 - val_loss: 0.0131 - 668ms/epoch - 4ms/step\n",
      "Epoch 22/300\n",
      "176/176 - 1s - loss: 0.0100 - val_loss: 0.0134 - 788ms/epoch - 4ms/step\n",
      "Epoch 23/300\n",
      "176/176 - 1s - loss: 0.0099 - val_loss: 0.0145 - 792ms/epoch - 4ms/step\n",
      "Epoch 24/300\n",
      "176/176 - 1s - loss: 0.0098 - val_loss: 0.0131 - 741ms/epoch - 4ms/step\n",
      "Epoch 25/300\n",
      "176/176 - 1s - loss: 0.0099 - val_loss: 0.0134 - 672ms/epoch - 4ms/step\n",
      "Epoch 26/300\n",
      "176/176 - 1s - loss: 0.0098 - val_loss: 0.0137 - 665ms/epoch - 4ms/step\n",
      "Epoch 27/300\n",
      "176/176 - 1s - loss: 0.0098 - val_loss: 0.0138 - 742ms/epoch - 4ms/step\n",
      "Epoch 28/300\n",
      "176/176 - 1s - loss: 0.0098 - val_loss: 0.0133 - 771ms/epoch - 4ms/step\n",
      "Epoch 29/300\n",
      "176/176 - 1s - loss: 0.0097 - val_loss: 0.0131 - 665ms/epoch - 4ms/step\n",
      "Epoch 30/300\n",
      "176/176 - 1s - loss: 0.0099 - val_loss: 0.0131 - 668ms/epoch - 4ms/step\n",
      "Epoch 31/300\n",
      "176/176 - 1s - loss: 0.0098 - val_loss: 0.0132 - 670ms/epoch - 4ms/step\n",
      "Epoch 32/300\n",
      "176/176 - 1s - loss: 0.0097 - val_loss: 0.0133 - 662ms/epoch - 4ms/step\n",
      "Epoch 33/300\n",
      "176/176 - 1s - loss: 0.0098 - val_loss: 0.0132 - 686ms/epoch - 4ms/step\n",
      "Epoch 34/300\n",
      "176/176 - 1s - loss: 0.0097 - val_loss: 0.0137 - 726ms/epoch - 4ms/step\n",
      "Epoch 35/300\n",
      "176/176 - 1s - loss: 0.0098 - val_loss: 0.0131 - 762ms/epoch - 4ms/step\n",
      "Epoch 36/300\n",
      "176/176 - 1s - loss: 0.0097 - val_loss: 0.0137 - 703ms/epoch - 4ms/step\n",
      "Epoch 37/300\n",
      "176/176 - 1s - loss: 0.0097 - val_loss: 0.0132 - 670ms/epoch - 4ms/step\n",
      "Epoch 38/300\n",
      "176/176 - 1s - loss: 0.0097 - val_loss: 0.0131 - 667ms/epoch - 4ms/step\n",
      "Epoch 39/300\n",
      "176/176 - 1s - loss: 0.0097 - val_loss: 0.0136 - 693ms/epoch - 4ms/step\n",
      "Epoch 40/300\n",
      "176/176 - 1s - loss: 0.0099 - val_loss: 0.0132 - 682ms/epoch - 4ms/step\n",
      "Epoch 41/300\n",
      "176/176 - 1s - loss: 0.0097 - val_loss: 0.0131 - 702ms/epoch - 4ms/step\n",
      "Epoch 42/300\n",
      "176/176 - 1s - loss: 0.0098 - val_loss: 0.0135 - 674ms/epoch - 4ms/step\n",
      "Epoch 43/300\n",
      "176/176 - 1s - loss: 0.0098 - val_loss: 0.0141 - 668ms/epoch - 4ms/step\n",
      "Epoch 44/300\n",
      "176/176 - 1s - loss: 0.0097 - val_loss: 0.0140 - 669ms/epoch - 4ms/step\n",
      "Epoch 45/300\n",
      "176/176 - 1s - loss: 0.0097 - val_loss: 0.0133 - 816ms/epoch - 5ms/step\n",
      "Epoch 46/300\n",
      "176/176 - 1s - loss: 0.0098 - val_loss: 0.0132 - 803ms/epoch - 5ms/step\n",
      "Epoch 47/300\n",
      "176/176 - 1s - loss: 0.0098 - val_loss: 0.0133 - 718ms/epoch - 4ms/step\n",
      "Epoch 48/300\n",
      "176/176 - 1s - loss: 0.0097 - val_loss: 0.0134 - 668ms/epoch - 4ms/step\n",
      "Epoch 49/300\n",
      "176/176 - 1s - loss: 0.0097 - val_loss: 0.0145 - 663ms/epoch - 4ms/step\n",
      "Epoch 50/300\n",
      "176/176 - 1s - loss: 0.0097 - val_loss: 0.0133 - 671ms/epoch - 4ms/step\n",
      "Epoch 51/300\n",
      "176/176 - 1s - loss: 0.0097 - val_loss: 0.0133 - 676ms/epoch - 4ms/step\n",
      "Epoch 52/300\n",
      "176/176 - 1s - loss: 0.0098 - val_loss: 0.0131 - 664ms/epoch - 4ms/step\n",
      "Epoch 53/300\n",
      "176/176 - 1s - loss: 0.0098 - val_loss: 0.0133 - 669ms/epoch - 4ms/step\n",
      "Epoch 54/300\n",
      "176/176 - 1s - loss: 0.0099 - val_loss: 0.0132 - 675ms/epoch - 4ms/step\n",
      "Epoch 55/300\n",
      "176/176 - 1s - loss: 0.0097 - val_loss: 0.0134 - 680ms/epoch - 4ms/step\n",
      "Epoch 56/300\n",
      "176/176 - 1s - loss: 0.0097 - val_loss: 0.0132 - 693ms/epoch - 4ms/step\n",
      "Epoch 57/300\n",
      "176/176 - 1s - loss: 0.0098 - val_loss: 0.0132 - 665ms/epoch - 4ms/step\n",
      "Epoch 58/300\n",
      "176/176 - 1s - loss: 0.0097 - val_loss: 0.0135 - 737ms/epoch - 4ms/step\n",
      "Epoch 59/300\n",
      "176/176 - 1s - loss: 0.0096 - val_loss: 0.0139 - 847ms/epoch - 5ms/step\n",
      "Epoch 60/300\n",
      "176/176 - 1s - loss: 0.0098 - val_loss: 0.0134 - 668ms/epoch - 4ms/step\n",
      "Epoch 61/300\n",
      "176/176 - 1s - loss: 0.0097 - val_loss: 0.0132 - 657ms/epoch - 4ms/step\n",
      "Epoch 62/300\n",
      "176/176 - 1s - loss: 0.0098 - val_loss: 0.0132 - 685ms/epoch - 4ms/step\n",
      "Epoch 63/300\n",
      "176/176 - 1s - loss: 0.0097 - val_loss: 0.0149 - 664ms/epoch - 4ms/step\n",
      "Epoch 64/300\n",
      "176/176 - 1s - loss: 0.0098 - val_loss: 0.0158 - 692ms/epoch - 4ms/step\n",
      "Epoch 65/300\n",
      "176/176 - 1s - loss: 0.0098 - val_loss: 0.0132 - 711ms/epoch - 4ms/step\n",
      "Epoch 66/300\n",
      "176/176 - 1s - loss: 0.0098 - val_loss: 0.0133 - 658ms/epoch - 4ms/step\n",
      "Epoch 67/300\n",
      "176/176 - 1s - loss: 0.0098 - val_loss: 0.0132 - 694ms/epoch - 4ms/step\n",
      "Epoch 68/300\n",
      "176/176 - 1s - loss: 0.0097 - val_loss: 0.0133 - 863ms/epoch - 5ms/step\n",
      "Epoch 69/300\n",
      "176/176 - 1s - loss: 0.0097 - val_loss: 0.0135 - 775ms/epoch - 4ms/step\n",
      "Epoch 70/300\n",
      "176/176 - 1s - loss: 0.0097 - val_loss: 0.0133 - 689ms/epoch - 4ms/step\n",
      "Epoch 71/300\n",
      "176/176 - 1s - loss: 0.0097 - val_loss: 0.0131 - 679ms/epoch - 4ms/step\n",
      "Epoch 72/300\n",
      "176/176 - 1s - loss: 0.0097 - val_loss: 0.0132 - 666ms/epoch - 4ms/step\n",
      "Epoch 73/300\n",
      "176/176 - 1s - loss: 0.0097 - val_loss: 0.0133 - 666ms/epoch - 4ms/step\n",
      "Epoch 74/300\n",
      "176/176 - 1s - loss: 0.0097 - val_loss: 0.0132 - 724ms/epoch - 4ms/step\n",
      "Epoch 75/300\n",
      "176/176 - 1s - loss: 0.0097 - val_loss: 0.0133 - 671ms/epoch - 4ms/step\n",
      "Epoch 76/300\n",
      "176/176 - 1s - loss: 0.0097 - val_loss: 0.0135 - 667ms/epoch - 4ms/step\n",
      "Epoch 77/300\n",
      "176/176 - 1s - loss: 0.0098 - val_loss: 0.0132 - 670ms/epoch - 4ms/step\n",
      "Epoch 78/300\n",
      "176/176 - 1s - loss: 0.0097 - val_loss: 0.0132 - 671ms/epoch - 4ms/step\n",
      "Epoch 79/300\n",
      "176/176 - 1s - loss: 0.0097 - val_loss: 0.0134 - 730ms/epoch - 4ms/step\n",
      "Epoch 80/300\n",
      "176/176 - 1s - loss: 0.0098 - val_loss: 0.0132 - 788ms/epoch - 4ms/step\n",
      "Epoch 81/300\n",
      "176/176 - 1s - loss: 0.0097 - val_loss: 0.0141 - 679ms/epoch - 4ms/step\n",
      "Epoch 82/300\n",
      "176/176 - 1s - loss: 0.0098 - val_loss: 0.0135 - 669ms/epoch - 4ms/step\n",
      "Epoch 83/300\n",
      "176/176 - 1s - loss: 0.0097 - val_loss: 0.0134 - 698ms/epoch - 4ms/step\n",
      "Epoch 84/300\n",
      "176/176 - 1s - loss: 0.0097 - val_loss: 0.0134 - 694ms/epoch - 4ms/step\n",
      "Epoch 85/300\n",
      "176/176 - 1s - loss: 0.0098 - val_loss: 0.0132 - 677ms/epoch - 4ms/step\n",
      "Epoch 86/300\n",
      "176/176 - 1s - loss: 0.0096 - val_loss: 0.0134 - 693ms/epoch - 4ms/step\n",
      "Epoch 87/300\n",
      "176/176 - 1s - loss: 0.0097 - val_loss: 0.0133 - 669ms/epoch - 4ms/step\n",
      "Epoch 88/300\n",
      "176/176 - 1s - loss: 0.0097 - val_loss: 0.0133 - 674ms/epoch - 4ms/step\n",
      "Epoch 89/300\n",
      "176/176 - 1s - loss: 0.0097 - val_loss: 0.0137 - 661ms/epoch - 4ms/step\n",
      "Epoch 90/300\n",
      "176/176 - 1s - loss: 0.0097 - val_loss: 0.0139 - 747ms/epoch - 4ms/step\n",
      "Epoch 91/300\n",
      "176/176 - 1s - loss: 0.0097 - val_loss: 0.0133 - 831ms/epoch - 5ms/step\n",
      "Epoch 92/300\n",
      "176/176 - 1s - loss: 0.0097 - val_loss: 0.0133 - 755ms/epoch - 4ms/step\n",
      "Epoch 93/300\n",
      "176/176 - 1s - loss: 0.0096 - val_loss: 0.0134 - 673ms/epoch - 4ms/step\n",
      "Epoch 94/300\n",
      "176/176 - 1s - loss: 0.0097 - val_loss: 0.0134 - 682ms/epoch - 4ms/step\n",
      "Epoch 95/300\n",
      "176/176 - 1s - loss: 0.0097 - val_loss: 0.0132 - 664ms/epoch - 4ms/step\n",
      "Epoch 96/300\n",
      "176/176 - 1s - loss: 0.0097 - val_loss: 0.0133 - 681ms/epoch - 4ms/step\n",
      "Epoch 97/300\n",
      "176/176 - 1s - loss: 0.0097 - val_loss: 0.0133 - 678ms/epoch - 4ms/step\n"
     ]
    },
    {
     "name": "stdout",
     "output_type": "stream",
     "text": [
      "Epoch 98/300\n",
      "176/176 - 1s - loss: 0.0097 - val_loss: 0.0134 - 700ms/epoch - 4ms/step\n",
      "Epoch 99/300\n",
      "176/176 - 1s - loss: 0.0097 - val_loss: 0.0132 - 665ms/epoch - 4ms/step\n",
      "Epoch 100/300\n",
      "176/176 - 1s - loss: 0.0096 - val_loss: 0.0135 - 704ms/epoch - 4ms/step\n",
      "Epoch 101/300\n",
      "176/176 - 1s - loss: 0.0097 - val_loss: 0.0132 - 670ms/epoch - 4ms/step\n",
      "Epoch 102/300\n",
      "176/176 - 1s - loss: 0.0097 - val_loss: 0.0133 - 733ms/epoch - 4ms/step\n",
      "Epoch 103/300\n",
      "176/176 - 1s - loss: 0.0097 - val_loss: 0.0133 - 776ms/epoch - 4ms/step\n",
      "Epoch 104/300\n",
      "176/176 - 1s - loss: 0.0097 - val_loss: 0.0135 - 785ms/epoch - 4ms/step\n",
      "Epoch 105/300\n",
      "176/176 - 1s - loss: 0.0097 - val_loss: 0.0135 - 768ms/epoch - 4ms/step\n",
      "Epoch 106/300\n",
      "176/176 - 1s - loss: 0.0097 - val_loss: 0.0133 - 756ms/epoch - 4ms/step\n",
      "Epoch 107/300\n",
      "176/176 - 1s - loss: 0.0098 - val_loss: 0.0134 - 747ms/epoch - 4ms/step\n",
      "Epoch 108/300\n",
      "176/176 - 1s - loss: 0.0097 - val_loss: 0.0137 - 766ms/epoch - 4ms/step\n",
      "Epoch 109/300\n",
      "176/176 - 1s - loss: 0.0097 - val_loss: 0.0134 - 768ms/epoch - 4ms/step\n",
      "Epoch 110/300\n",
      "176/176 - 1s - loss: 0.0097 - val_loss: 0.0132 - 670ms/epoch - 4ms/step\n",
      "Epoch 111/300\n",
      "176/176 - 1s - loss: 0.0096 - val_loss: 0.0133 - 672ms/epoch - 4ms/step\n",
      "Epoch 112/300\n",
      "176/176 - 1s - loss: 0.0096 - val_loss: 0.0133 - 714ms/epoch - 4ms/step\n",
      "Epoch 113/300\n",
      "176/176 - 1s - loss: 0.0096 - val_loss: 0.0137 - 808ms/epoch - 5ms/step\n",
      "Epoch 114/300\n",
      "176/176 - 1s - loss: 0.0097 - val_loss: 0.0133 - 797ms/epoch - 5ms/step\n",
      "Epoch 115/300\n",
      "176/176 - 1s - loss: 0.0097 - val_loss: 0.0133 - 676ms/epoch - 4ms/step\n",
      "Epoch 116/300\n",
      "176/176 - 1s - loss: 0.0096 - val_loss: 0.0134 - 727ms/epoch - 4ms/step\n",
      "Epoch 117/300\n",
      "176/176 - 1s - loss: 0.0097 - val_loss: 0.0133 - 674ms/epoch - 4ms/step\n",
      "Epoch 118/300\n",
      "176/176 - 1s - loss: 0.0097 - val_loss: 0.0134 - 668ms/epoch - 4ms/step\n",
      "Epoch 119/300\n",
      "176/176 - 1s - loss: 0.0097 - val_loss: 0.0132 - 668ms/epoch - 4ms/step\n",
      "Epoch 120/300\n",
      "176/176 - 1s - loss: 0.0097 - val_loss: 0.0133 - 669ms/epoch - 4ms/step\n",
      "Epoch 121/300\n",
      "176/176 - 1s - loss: 0.0096 - val_loss: 0.0134 - 671ms/epoch - 4ms/step\n",
      "Epoch 122/300\n",
      "176/176 - 1s - loss: 0.0096 - val_loss: 0.0134 - 671ms/epoch - 4ms/step\n",
      "Epoch 123/300\n",
      "176/176 - 1s - loss: 0.0096 - val_loss: 0.0135 - 665ms/epoch - 4ms/step\n",
      "Epoch 124/300\n",
      "176/176 - 1s - loss: 0.0096 - val_loss: 0.0133 - 682ms/epoch - 4ms/step\n",
      "Epoch 125/300\n",
      "176/176 - 1s - loss: 0.0097 - val_loss: 0.0133 - 692ms/epoch - 4ms/step\n",
      "Epoch 126/300\n",
      "176/176 - 1s - loss: 0.0096 - val_loss: 0.0132 - 675ms/epoch - 4ms/step\n",
      "Epoch 127/300\n",
      "176/176 - 1s - loss: 0.0097 - val_loss: 0.0132 - 670ms/epoch - 4ms/step\n",
      "Epoch 128/300\n",
      "176/176 - 1s - loss: 0.0096 - val_loss: 0.0133 - 670ms/epoch - 4ms/step\n",
      "Epoch 129/300\n",
      "176/176 - 1s - loss: 0.0097 - val_loss: 0.0133 - 670ms/epoch - 4ms/step\n",
      "Epoch 130/300\n",
      "176/176 - 1s - loss: 0.0097 - val_loss: 0.0133 - 731ms/epoch - 4ms/step\n",
      "Epoch 131/300\n",
      "176/176 - 1s - loss: 0.0097 - val_loss: 0.0133 - 749ms/epoch - 4ms/step\n",
      "Epoch 132/300\n",
      "176/176 - 1s - loss: 0.0097 - val_loss: 0.0133 - 668ms/epoch - 4ms/step\n",
      "Epoch 133/300\n",
      "176/176 - 1s - loss: 0.0096 - val_loss: 0.0132 - 733ms/epoch - 4ms/step\n",
      "Epoch 134/300\n",
      "176/176 - 1s - loss: 0.0097 - val_loss: 0.0135 - 778ms/epoch - 4ms/step\n",
      "Epoch 135/300\n",
      "176/176 - 1s - loss: 0.0096 - val_loss: 0.0134 - 780ms/epoch - 4ms/step\n",
      "Epoch 136/300\n",
      "176/176 - 1s - loss: 0.0096 - val_loss: 0.0134 - 815ms/epoch - 5ms/step\n",
      "Epoch 137/300\n",
      "176/176 - 1s - loss: 0.0097 - val_loss: 0.0142 - 756ms/epoch - 4ms/step\n",
      "Epoch 138/300\n",
      "176/176 - 1s - loss: 0.0097 - val_loss: 0.0133 - 674ms/epoch - 4ms/step\n",
      "Epoch 139/300\n",
      "176/176 - 1s - loss: 0.0096 - val_loss: 0.0139 - 669ms/epoch - 4ms/step\n",
      "Epoch 140/300\n",
      "176/176 - 1s - loss: 0.0096 - val_loss: 0.0134 - 672ms/epoch - 4ms/step\n",
      "Epoch 141/300\n",
      "176/176 - 1s - loss: 0.0096 - val_loss: 0.0133 - 673ms/epoch - 4ms/step\n",
      "Epoch 142/300\n"
     ]
    }
   ],
   "source": [
    "model.fit(trainX, trainY, validation_data=(testX, testY), verbose=2, epochs=300)"
   ]
  },
  {
   "cell_type": "markdown",
   "id": "14c02453",
   "metadata": {},
   "source": [
    "# making predictions "
   ]
  },
  {
   "cell_type": "code",
   "execution_count": null,
   "id": "a32c266c",
   "metadata": {},
   "outputs": [],
   "source": [
    "trainPredict = model.predict(trainX)\n",
    "testPredict = model.predict(testX)"
   ]
  },
  {
   "cell_type": "code",
   "execution_count": null,
   "id": "8b7c425c",
   "metadata": {},
   "outputs": [],
   "source": [
    "#inverting predictions back to prescaled values\n",
    "\n",
    "trainPredict = scaler.inverse_transform(trainPredict)\n",
    "trainY = scaler.inverse_transform([trainY])\n",
    "testPredict = scaler.inverse_transform(testPredict)\n",
    "testY = scaler.inverse_transform([testY])"
   ]
  },
  {
   "cell_type": "markdown",
   "id": "6d21b702",
   "metadata": {},
   "source": [
    "# performance evaluation"
   ]
  },
  {
   "cell_type": "code",
   "execution_count": null,
   "id": "097ea6b4",
   "metadata": {},
   "outputs": [],
   "source": [
    "#evaluating the performance\n",
    "\n",
    "testScore = math.sqrt(mean_squared_error(testY[0], testPredict[:,0]))\n",
    "print('Test Score: %.7f RMSE' % (testScore))\n",
    "\n",
    "testScore = metrics.mean_squared_error(testY[0], testPredict[:,0])\n",
    "print('Test Score: %.7f MSE' % (testScore))\n",
    "\n",
    "testScore = metrics.r2_score(testY[0], testPredict[:,0])\n",
    "print('Test Score: %.7f R2-SCORE' % (testScore))\n",
    "\n",
    "testScore = metrics.mean_absolute_error(testY[0], testPredict[:,0])\n",
    "print('Test Score: %.7f MAE' % (testScore))"
   ]
  },
  {
   "cell_type": "code",
   "execution_count": null,
   "id": "dffbfac0",
   "metadata": {},
   "outputs": [],
   "source": [
    "#evaluating the performance\n",
    "\n",
    "trainScore = math.sqrt(mean_squared_error(trainY[0], trainPredict[:,0]))\n",
    "print('Train Score: %.2f RMSE' % (trainScore))\n",
    "\n",
    "trainScore = metrics.mean_squared_error(trainY[0], trainPredict[:,0])\n",
    "print('Train Score: %.2f MSE' % (trainScore))\n",
    "\n",
    "trainScore = metrics.r2_score(trainY[0], trainPredict[:,0])\n",
    "print('Train Score: %.2f R2-SCORE' % (trainScore))\n",
    "\n",
    "trainScore = metrics.mean_absolute_error(trainY[0], trainPredict[:,0])\n",
    "print('Train Score: %.2f MAE' % (trainScore))"
   ]
  },
  {
   "cell_type": "code",
   "execution_count": null,
   "id": "b5f7c798",
   "metadata": {},
   "outputs": [],
   "source": [
    "trainPredictPlot = np.empty_like(dataset)\n",
    "trainPredictPlot[:, :] = np.nan\n",
    "trainPredictPlot[seq_size:len(trainPredict)+seq_size, :] = trainPredict\n",
    "\n",
    "testPredictPlot = np.empty_like(dataset)\n",
    "testPredictPlot[:, :] = np.nan\n",
    "testPredictPlot[len(trainPredict)+(seq_size*2)+1:len(dataset)-1, :] = testPredict\n",
    "\n",
    "# plot baseline and predictions\n",
    "plt.plot(scaler.inverse_transform(dataset))\n",
    "plt.plot(trainPredictPlot)\n",
    "plt.plot(testPredictPlot)\n",
    "plt.show()"
   ]
  },
  {
   "cell_type": "code",
   "execution_count": null,
   "id": "d20483a5",
   "metadata": {},
   "outputs": [],
   "source": [
    "#pd.DataFrame(trainPredictPlot).to_csv('C:/Users/jayan/OneDrive/Desktop/Dataset/Ptrain.csv')"
   ]
  },
  {
   "cell_type": "code",
   "execution_count": null,
   "id": "ac1c6729",
   "metadata": {},
   "outputs": [],
   "source": [
    "#pd.DataFrame(testPredictPlot).to_csv('C:/Users/jayan/OneDrive/Desktop/Dataset/Ptest.csv')"
   ]
  },
  {
   "cell_type": "code",
   "execution_count": null,
   "id": "4f1911e0",
   "metadata": {},
   "outputs": [],
   "source": [
    "#pd.DataFrame(testY).to_csv('C:/Users/jayan/OneDrive/Desktop/Dataset/test.csv')"
   ]
  },
  {
   "cell_type": "code",
   "execution_count": null,
   "id": "f9351557",
   "metadata": {},
   "outputs": [],
   "source": [
    "#pd.DataFrame(trainY).to_csv('C:/Users/jayan/OneDrive/Desktop/Dataset/train.csv')"
   ]
  },
  {
   "cell_type": "code",
   "execution_count": null,
   "id": "2cf54ce7",
   "metadata": {},
   "outputs": [],
   "source": []
  }
 ],
 "metadata": {
  "kernelspec": {
   "display_name": "Python 3",
   "language": "python",
   "name": "python3"
  },
  "language_info": {
   "codemirror_mode": {
    "name": "ipython",
    "version": 3
   },
   "file_extension": ".py",
   "mimetype": "text/x-python",
   "name": "python",
   "nbconvert_exporter": "python",
   "pygments_lexer": "ipython3",
   "version": "3.8.8"
  }
 },
 "nbformat": 4,
 "nbformat_minor": 5
}
