{
 "cells": [
  {
   "cell_type": "code",
   "execution_count": 1,
   "id": "e91661b4",
   "metadata": {},
   "outputs": [],
   "source": [
    "import pandas as pd\n",
    "import numpy as np\n",
    "\n",
    "import warnings\n",
    "warnings.filterwarnings('ignore' )\n",
    "\n",
    "dataset = pd.read_csv(\"Merged data set.csv\")"
   ]
  },
  {
   "cell_type": "code",
   "execution_count": 2,
   "id": "34edf62b",
   "metadata": {},
   "outputs": [],
   "source": [
    "dataset.drop('Date/Time', axis=1, inplace=True)"
   ]
  },
  {
   "cell_type": "code",
   "execution_count": 3,
   "id": "77b0cfd3",
   "metadata": {},
   "outputs": [],
   "source": [
    "#Create train and test set\n",
    "from sklearn.model_selection import train_test_split\n",
    "train , test = train_test_split(dataset, test_size = 0.3)\n",
    "\n",
    "x_train = train.drop('Active power', axis=1)\n",
    "y_train = train['Active power']\n",
    "\n",
    "x_test = test.drop('Active power', axis = 1)\n",
    "y_test = test['Active power']"
   ]
  },
  {
   "cell_type": "code",
   "execution_count": 4,
   "id": "6676b3a4",
   "metadata": {},
   "outputs": [],
   "source": [
    "#Preprocessing – Scaling the features\n",
    "from sklearn.preprocessing import MinMaxScaler\n",
    "scaler = MinMaxScaler(feature_range=(0, 1))\n",
    "\n",
    "x_train_scaled = scaler.fit_transform(x_train)\n",
    "x_train = pd.DataFrame(x_train_scaled)\n",
    "\n",
    "x_test_scaled = scaler.fit_transform(x_test)\n",
    "x_test = pd.DataFrame(x_test_scaled)"
   ]
  },
  {
   "cell_type": "code",
   "execution_count": 5,
   "id": "f2dd6369",
   "metadata": {},
   "outputs": [],
   "source": [
    "#import required packages\n",
    "from sklearn import neighbors\n",
    "from sklearn.metrics import mean_squared_error \n",
    "from math import sqrt\n",
    "import matplotlib.pyplot as plt\n",
    "%matplotlib inline"
   ]
  },
  {
   "cell_type": "code",
   "execution_count": 6,
   "id": "5b5e449d",
   "metadata": {},
   "outputs": [
    {
     "name": "stdout",
     "output_type": "stream",
     "text": [
      "RMSE value for k=  1 is: 35.769162591961006\n",
      "RMSE value for k=  2 is: 31.187505118703122\n",
      "RMSE value for k=  3 is: 29.779044164433298\n",
      "RMSE value for k=  4 is: 28.863668907669155\n",
      "RMSE value for k=  5 is: 28.433605148313674\n",
      "RMSE value for k=  6 is: 28.026847572619992\n",
      "RMSE value for k=  7 is: 27.706291994699562\n",
      "RMSE value for k=  8 is: 27.38080582664405\n",
      "RMSE value for k=  9 is: 27.130760891997763\n",
      "RMSE value for k=  10 is: 26.913970311355527\n",
      "RMSE value for k=  11 is: 26.807045317121172\n",
      "RMSE value for k=  12 is: 26.72273474971935\n",
      "RMSE value for k=  13 is: 26.560508695197797\n",
      "RMSE value for k=  14 is: 26.503346068262278\n",
      "RMSE value for k=  15 is: 26.365070857677896\n",
      "RMSE value for k=  16 is: 26.3382292203411\n",
      "RMSE value for k=  17 is: 26.260205256292792\n",
      "RMSE value for k=  18 is: 26.19079590069046\n",
      "RMSE value for k=  19 is: 26.11537362857651\n",
      "RMSE value for k=  20 is: 26.076031382138694\n"
     ]
    }
   ],
   "source": [
    "rmse_val = [] #to store rmse values for different k\n",
    "for K in range(20):\n",
    "    K = K+1\n",
    "    model = neighbors.KNeighborsRegressor(n_neighbors = K)\n",
    "\n",
    "    model.fit(x_train, y_train)  #fit the model\n",
    "    pred=model.predict(x_test) #make prediction on test set\n",
    "    error = sqrt(mean_squared_error(y_test,pred)) #calculate rmse\n",
    "    rmse_val.append(error) #store rmse values\n",
    "    print('RMSE value for k= ' , K , 'is:', error)"
   ]
  },
  {
   "cell_type": "code",
   "execution_count": 7,
   "id": "8e4670d1",
   "metadata": {},
   "outputs": [
    {
     "data": {
      "text/plain": [
       "<AxesSubplot:>"
      ]
     },
     "execution_count": 7,
     "metadata": {},
     "output_type": "execute_result"
    },
    {
     "data": {
      "image/png": "[encoded data removed]",
      "text/plain": [
       "<Figure size 432x288 with 1 Axes>"
      ]
     },
     "metadata": {
      "needs_background": "light"
     },
     "output_type": "display_data"
    }
   ],
   "source": [
    "#plotting the rmse values against k values\n",
    "curve = pd.DataFrame(rmse_val) #elbow curve \n",
    "curve.plot()"
   ]
  },
  {
   "cell_type": "code",
   "execution_count": 8,
   "id": "9bf43104",
   "metadata": {},
   "outputs": [],
   "source": [
    "#predicting on the test set and creating submission file\n",
    "y_pred = model.predict(x_test)"
   ]
  },
  {
   "cell_type": "code",
   "execution_count": 9,
   "id": "8802c958",
   "metadata": {},
   "outputs": [
    {
     "data": {
      "text/plain": [
       "array([ 806.890785,  284.17826 ,  112.30364 , ...,  461.778605,\n",
       "       1216.2389  ,  744.260775])"
      ]
     },
     "execution_count": 9,
     "metadata": {},
     "output_type": "execute_result"
    }
   ],
   "source": [
    "y_pred"
   ]
  },
  {
   "cell_type": "code",
   "execution_count": 15,
   "id": "f91e6052",
   "metadata": {},
   "outputs": [
    {
     "data": {
      "text/html": [
       "<div>\n",
       "<style scoped>\n",
       "    .dataframe tbody tr th:only-of-type {\n",
       "        vertical-align: middle;\n",
       "    }\n",
       "\n",
       "    .dataframe tbody tr th {\n",
       "        vertical-align: top;\n",
       "    }\n",
       "\n",
       "    .dataframe thead th {\n",
       "        text-align: right;\n",
       "    }\n",
       "</style>\n",
       "<table border=\"1\" class=\"dataframe\">\n",
       "  <thead>\n",
       "    <tr style=\"text-align: right;\">\n",
       "      <th></th>\n",
       "      <th>y_Test</th>\n",
       "      <th>y_Predicted</th>\n",
       "    </tr>\n",
       "  </thead>\n",
       "  <tbody>\n",
       "    <tr>\n",
       "      <th>36545</th>\n",
       "      <td>786.6688</td>\n",
       "      <td>806.890785</td>\n",
       "    </tr>\n",
       "    <tr>\n",
       "      <th>744</th>\n",
       "      <td>272.0956</td>\n",
       "      <td>284.178260</td>\n",
       "    </tr>\n",
       "    <tr>\n",
       "      <th>42778</th>\n",
       "      <td>106.2472</td>\n",
       "      <td>112.303640</td>\n",
       "    </tr>\n",
       "    <tr>\n",
       "      <th>158</th>\n",
       "      <td>124.6152</td>\n",
       "      <td>127.782535</td>\n",
       "    </tr>\n",
       "    <tr>\n",
       "      <th>43807</th>\n",
       "      <td>211.6473</td>\n",
       "      <td>210.343830</td>\n",
       "    </tr>\n",
       "    <tr>\n",
       "      <th>35593</th>\n",
       "      <td>1213.9770</td>\n",
       "      <td>1286.390900</td>\n",
       "    </tr>\n",
       "    <tr>\n",
       "      <th>26133</th>\n",
       "      <td>1304.4040</td>\n",
       "      <td>1310.212350</td>\n",
       "    </tr>\n",
       "    <tr>\n",
       "      <th>51015</th>\n",
       "      <td>401.3500</td>\n",
       "      <td>414.691340</td>\n",
       "    </tr>\n",
       "    <tr>\n",
       "      <th>46745</th>\n",
       "      <td>19.9807</td>\n",
       "      <td>26.313590</td>\n",
       "    </tr>\n",
       "    <tr>\n",
       "      <th>8404</th>\n",
       "      <td>857.1711</td>\n",
       "      <td>855.078305</td>\n",
       "    </tr>\n",
       "    <tr>\n",
       "      <th>33178</th>\n",
       "      <td>401.2362</td>\n",
       "      <td>407.811115</td>\n",
       "    </tr>\n",
       "    <tr>\n",
       "      <th>25868</th>\n",
       "      <td>190.0281</td>\n",
       "      <td>189.805885</td>\n",
       "    </tr>\n",
       "    <tr>\n",
       "      <th>8913</th>\n",
       "      <td>241.8909</td>\n",
       "      <td>245.146820</td>\n",
       "    </tr>\n",
       "    <tr>\n",
       "      <th>21456</th>\n",
       "      <td>1310.7920</td>\n",
       "      <td>1331.724050</td>\n",
       "    </tr>\n",
       "    <tr>\n",
       "      <th>24322</th>\n",
       "      <td>992.5568</td>\n",
       "      <td>1021.071155</td>\n",
       "    </tr>\n",
       "    <tr>\n",
       "      <th>23321</th>\n",
       "      <td>924.4240</td>\n",
       "      <td>1005.003515</td>\n",
       "    </tr>\n",
       "    <tr>\n",
       "      <th>4506</th>\n",
       "      <td>221.7352</td>\n",
       "      <td>207.608835</td>\n",
       "    </tr>\n",
       "    <tr>\n",
       "      <th>47823</th>\n",
       "      <td>81.7049</td>\n",
       "      <td>93.094240</td>\n",
       "    </tr>\n",
       "    <tr>\n",
       "      <th>29449</th>\n",
       "      <td>180.8523</td>\n",
       "      <td>181.987960</td>\n",
       "    </tr>\n",
       "    <tr>\n",
       "      <th>19570</th>\n",
       "      <td>0.7412</td>\n",
       "      <td>0.000000</td>\n",
       "    </tr>\n",
       "  </tbody>\n",
       "</table>\n",
       "</div>"
      ],
      "text/plain": [
       "          y_Test  y_Predicted\n",
       "36545   786.6688   806.890785\n",
       "744     272.0956   284.178260\n",
       "42778   106.2472   112.303640\n",
       "158     124.6152   127.782535\n",
       "43807   211.6473   210.343830\n",
       "35593  1213.9770  1286.390900\n",
       "26133  1304.4040  1310.212350\n",
       "51015   401.3500   414.691340\n",
       "46745    19.9807    26.313590\n",
       "8404    857.1711   855.078305\n",
       "33178   401.2362   407.811115\n",
       "25868   190.0281   189.805885\n",
       "8913    241.8909   245.146820\n",
       "21456  1310.7920  1331.724050\n",
       "24322   992.5568  1021.071155\n",
       "23321   924.4240  1005.003515\n",
       "4506    221.7352   207.608835\n",
       "47823    81.7049    93.094240\n",
       "29449   180.8523   181.987960\n",
       "19570     0.7412     0.000000"
      ]
     },
     "execution_count": 15,
     "metadata": {},
     "output_type": "execute_result"
    }
   ],
   "source": [
    "predict_df = pd.DataFrame({\"y_Test\" : y_test, \"y_Predicted\" : y_pred})\n",
    "predict_df.head(20)"
   ]
  },
  {
   "cell_type": "code",
   "execution_count": 17,
   "id": "578d9687",
   "metadata": {},
   "outputs": [
    {
     "data": {
      "text/plain": [
       "{'n_neighbors': 7}"
      ]
     },
     "execution_count": 17,
     "metadata": {},
     "output_type": "execute_result"
    }
   ],
   "source": [
    "from sklearn.model_selection import GridSearchCV\n",
    "params = {'n_neighbors':[2,3,4,5,6,7,8,9,10,11,12,13,14,15,16,17,18]}\n",
    "\n",
    "knn = neighbors.KNeighborsRegressor()\n",
    "\n",
    "model = GridSearchCV(knn, params, cv=5)\n",
    "model.fit(x_train,y_train)\n",
    "model.best_params_"
   ]
  },
  {
   "cell_type": "code",
   "execution_count": 18,
   "id": "b5bb918a",
   "metadata": {},
   "outputs": [
    {
     "data": {
      "text/plain": [
       "{'mean_fit_time': array([0.13113694, 0.11393795, 0.11772695, 0.21986227, 0.27175641,\n",
       "        0.17609816, 0.18389087, 0.14590898, 0.18935866, 0.22358217,\n",
       "        0.33499217, 0.23453374, 0.29106655, 0.28776422, 0.23477159,\n",
       "        0.16270409, 0.13998523]),\n",
       " 'std_fit_time': array([0.02395265, 0.00626249, 0.01426718, 0.13824527, 0.06815958,\n",
       "        0.02621384, 0.03685125, 0.01205701, 0.06599361, 0.1262015 ,\n",
       "        0.08354002, 0.03872594, 0.20127619, 0.05300577, 0.08233757,\n",
       "        0.02656396, 0.01997697]),\n",
       " 'mean_score_time': array([0.15932207, 0.16428952, 0.17112784, 0.36159115, 0.53597493,\n",
       "        0.37839065, 0.35019932, 0.30864482, 0.35347605, 0.59758682,\n",
       "        0.90506825, 0.63365316, 0.40553699, 0.8860786 , 0.85001965,\n",
       "        0.53417115, 0.396277  ]),\n",
       " 'std_score_time': array([0.02234505, 0.02663487, 0.01219687, 0.1893413 , 0.03458808,\n",
       "        0.09317392, 0.04211963, 0.02054445, 0.03194572, 0.23921328,\n",
       "        0.29851251, 0.10128359, 0.11608448, 0.24817769, 0.15021854,\n",
       "        0.28795226, 0.10346339]),\n",
       " 'param_n_neighbors': masked_array(data=[2, 3, 4, 5, 6, 7, 8, 9, 10, 11, 12, 13, 14, 15, 16, 17,\n",
       "                    18],\n",
       "              mask=[False, False, False, False, False, False, False, False,\n",
       "                    False, False, False, False, False, False, False, False,\n",
       "                    False],\n",
       "        fill_value='?',\n",
       "             dtype=object),\n",
       " 'params': [{'n_neighbors': 2},\n",
       "  {'n_neighbors': 3},\n",
       "  {'n_neighbors': 4},\n",
       "  {'n_neighbors': 5},\n",
       "  {'n_neighbors': 6},\n",
       "  {'n_neighbors': 7},\n",
       "  {'n_neighbors': 8},\n",
       "  {'n_neighbors': 9},\n",
       "  {'n_neighbors': 10},\n",
       "  {'n_neighbors': 11},\n",
       "  {'n_neighbors': 12},\n",
       "  {'n_neighbors': 13},\n",
       "  {'n_neighbors': 14},\n",
       "  {'n_neighbors': 15},\n",
       "  {'n_neighbors': 16},\n",
       "  {'n_neighbors': 17},\n",
       "  {'n_neighbors': 18}],\n",
       " 'split0_test_score': array([0.99769941, 0.99790962, 0.99798802, 0.99797897, 0.99799105,\n",
       "        0.99800284, 0.99800606, 0.99802002, 0.99801382, 0.99801452,\n",
       "        0.99801075, 0.99800438, 0.99800985, 0.99799692, 0.9979877 ,\n",
       "        0.99796534, 0.99799   ]),\n",
       " 'split1_test_score': array([0.99765515, 0.99787756, 0.99798662, 0.99799399, 0.99799753,\n",
       "        0.99802018, 0.99802527, 0.99796551, 0.99791408, 0.99790651,\n",
       "        0.99787398, 0.9978678 , 0.99782827, 0.9978164 , 0.99782057,\n",
       "        0.99779474, 0.99778277]),\n",
       " 'split2_test_score': array([0.99777523, 0.99794028, 0.99798961, 0.99800634, 0.99805212,\n",
       "        0.99808102, 0.99805209, 0.99803167, 0.99800824, 0.99800084,\n",
       "        0.99796246, 0.997943  , 0.99792086, 0.99791056, 0.99792683,\n",
       "        0.99793553, 0.99792467]),\n",
       " 'split3_test_score': array([0.9977073 , 0.99786635, 0.9978866 , 0.99791975, 0.99794192,\n",
       "        0.99792553, 0.99793354, 0.99791158, 0.99792179, 0.99793318,\n",
       "        0.99793149, 0.9979363 , 0.9979061 , 0.99788424, 0.99787327,\n",
       "        0.99786545, 0.99786684]),\n",
       " 'split4_test_score': array([0.99748833, 0.99758379, 0.99770768, 0.99779801, 0.99786464,\n",
       "        0.99791522, 0.99789846, 0.99787936, 0.99787161, 0.9978877 ,\n",
       "        0.99785282, 0.99782177, 0.99782059, 0.99782608, 0.9978273 ,\n",
       "        0.99782697, 0.99783572]),\n",
       " 'mean_test_score': array([0.99766509, 0.99783552, 0.99791171, 0.99793941, 0.99796945,\n",
       "        0.99798896, 0.99798308, 0.99796163, 0.99794591, 0.99794855,\n",
       "        0.9979263 , 0.99791465, 0.99789713, 0.99788684, 0.99788713,\n",
       "        0.99787761, 0.99788   ]),\n",
       " 'std_test_score': array([9.63665212e-05, 1.28492439e-04, 1.09327332e-04, 7.66877229e-05,\n",
       "        6.29777179e-05, 6.18112028e-05, 5.77686371e-05, 5.93371026e-05,\n",
       "        5.58790857e-05, 5.05829393e-05, 5.76225077e-05, 6.34759829e-05,\n",
       "        6.92065902e-05, 6.53310953e-05, 6.30760588e-05, 6.42357211e-05,\n",
       "        7.16702562e-05]),\n",
       " 'rank_test_score': array([17, 16, 10,  7,  3,  1,  2,  4,  6,  5,  8,  9, 11, 13, 12, 15, 14])}"
      ]
     },
     "execution_count": 18,
     "metadata": {},
     "output_type": "execute_result"
    }
   ],
   "source": [
    "model.cv_results_"
   ]
  },
  {
   "cell_type": "markdown",
   "id": "ec97e585",
   "metadata": {},
   "source": [
    "https://www.youtube.com/watch?v=HdlDYng8g9s"
   ]
  },
  {
   "cell_type": "markdown",
   "id": "b360e86b",
   "metadata": {},
   "source": [
    "best k value have to be find"
   ]
  },
  {
   "cell_type": "code",
   "execution_count": null,
   "id": "247bbaaf",
   "metadata": {},
   "outputs": [],
   "source": []
  }
 ],
 "metadata": {
  "kernelspec": {
   "display_name": "Python 3",
   "language": "python",
   "name": "python3"
  },
  "language_info": {
   "codemirror_mode": {
    "name": "ipython",
    "version": 3
   },
   "file_extension": ".py",
   "mimetype": "text/x-python",
   "name": "python",
   "nbconvert_exporter": "python",
   "pygments_lexer": "ipython3",
   "version": "3.8.8"
  }
 },
 "nbformat": 4,
 "nbformat_minor": 5
}
