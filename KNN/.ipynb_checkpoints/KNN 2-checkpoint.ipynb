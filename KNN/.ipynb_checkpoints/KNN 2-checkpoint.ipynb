{
 "cells": [
  {
   "cell_type": "code",
   "execution_count": 1,
   "id": "e91661b4",
   "metadata": {},
   "outputs": [],
   "source": [
    "import pandas as pd\n",
    "import numpy as np\n",
    "\n",
    "import warnings\n",
    "warnings.filterwarnings('ignore' )\n",
    "\n",
    "dataset = pd.read_csv(\"Merged data set.csv\")"
   ]
  },
  {
   "cell_type": "code",
   "execution_count": 2,
   "id": "34edf62b",
   "metadata": {},
   "outputs": [],
   "source": [
    "dataset.drop('Date/Time', axis=1, inplace=True)"
   ]
  },
  {
   "cell_type": "code",
   "execution_count": 3,
   "id": "d3530dfa",
   "metadata": {},
   "outputs": [
    {
     "data": {
      "text/html": [
       "<div>\n",
       "<style scoped>\n",
       "    .dataframe tbody tr th:only-of-type {\n",
       "        vertical-align: middle;\n",
       "    }\n",
       "\n",
       "    .dataframe tbody tr th {\n",
       "        vertical-align: top;\n",
       "    }\n",
       "\n",
       "    .dataframe thead th {\n",
       "        text-align: right;\n",
       "    }\n",
       "</style>\n",
       "<table border=\"1\" class=\"dataframe\">\n",
       "  <thead>\n",
       "    <tr style=\"text-align: right;\">\n",
       "      <th></th>\n",
       "      <th>Wind speed</th>\n",
       "      <th>Generator speed</th>\n",
       "      <th>Blade angle</th>\n",
       "      <th>Wind direction</th>\n",
       "      <th>Ambient temperature</th>\n",
       "      <th>Active power</th>\n",
       "    </tr>\n",
       "  </thead>\n",
       "  <tbody>\n",
       "    <tr>\n",
       "      <th>0</th>\n",
       "      <td>5.1826</td>\n",
       "      <td>11.3582</td>\n",
       "      <td>-0.7699</td>\n",
       "      <td>-340.9205</td>\n",
       "      <td>28.4515</td>\n",
       "      <td>212.3730</td>\n",
       "    </tr>\n",
       "    <tr>\n",
       "      <th>1</th>\n",
       "      <td>4.9545</td>\n",
       "      <td>11.1044</td>\n",
       "      <td>-0.7699</td>\n",
       "      <td>-345.9042</td>\n",
       "      <td>28.5000</td>\n",
       "      <td>198.8769</td>\n",
       "    </tr>\n",
       "    <tr>\n",
       "      <th>2</th>\n",
       "      <td>4.8302</td>\n",
       "      <td>10.6120</td>\n",
       "      <td>-0.7699</td>\n",
       "      <td>-339.1856</td>\n",
       "      <td>28.5209</td>\n",
       "      <td>173.8923</td>\n",
       "    </tr>\n",
       "    <tr>\n",
       "      <th>3</th>\n",
       "      <td>4.4468</td>\n",
       "      <td>10.0738</td>\n",
       "      <td>-0.7698</td>\n",
       "      <td>-332.9802</td>\n",
       "      <td>28.4043</td>\n",
       "      <td>148.1184</td>\n",
       "    </tr>\n",
       "    <tr>\n",
       "      <th>4</th>\n",
       "      <td>4.9901</td>\n",
       "      <td>10.9070</td>\n",
       "      <td>-0.7699</td>\n",
       "      <td>-332.9802</td>\n",
       "      <td>28.3688</td>\n",
       "      <td>188.0684</td>\n",
       "    </tr>\n",
       "    <tr>\n",
       "      <th>...</th>\n",
       "      <td>...</td>\n",
       "      <td>...</td>\n",
       "      <td>...</td>\n",
       "      <td>...</td>\n",
       "      <td>...</td>\n",
       "      <td>...</td>\n",
       "    </tr>\n",
       "    <tr>\n",
       "      <th>51290</th>\n",
       "      <td>3.5208</td>\n",
       "      <td>8.9996</td>\n",
       "      <td>-0.7969</td>\n",
       "      <td>98.4366</td>\n",
       "      <td>27.6533</td>\n",
       "      <td>72.0548</td>\n",
       "    </tr>\n",
       "    <tr>\n",
       "      <th>51291</th>\n",
       "      <td>2.8284</td>\n",
       "      <td>8.9764</td>\n",
       "      <td>-0.7969</td>\n",
       "      <td>98.4366</td>\n",
       "      <td>27.6997</td>\n",
       "      <td>34.9057</td>\n",
       "    </tr>\n",
       "    <tr>\n",
       "      <th>51292</th>\n",
       "      <td>2.8082</td>\n",
       "      <td>8.9818</td>\n",
       "      <td>-0.7969</td>\n",
       "      <td>98.4366</td>\n",
       "      <td>27.6811</td>\n",
       "      <td>39.1213</td>\n",
       "    </tr>\n",
       "    <tr>\n",
       "      <th>51293</th>\n",
       "      <td>2.9400</td>\n",
       "      <td>8.9237</td>\n",
       "      <td>-0.7969</td>\n",
       "      <td>92.6699</td>\n",
       "      <td>27.6045</td>\n",
       "      <td>32.1846</td>\n",
       "    </tr>\n",
       "    <tr>\n",
       "      <th>51294</th>\n",
       "      <td>3.4937</td>\n",
       "      <td>8.9588</td>\n",
       "      <td>-0.7969</td>\n",
       "      <td>71.6456</td>\n",
       "      <td>27.5823</td>\n",
       "      <td>67.1899</td>\n",
       "    </tr>\n",
       "  </tbody>\n",
       "</table>\n",
       "<p>51295 rows × 6 columns</p>\n",
       "</div>"
      ],
      "text/plain": [
       "       Wind speed  Generator speed  Blade angle  Wind direction  \\\n",
       "0          5.1826          11.3582      -0.7699       -340.9205   \n",
       "1          4.9545          11.1044      -0.7699       -345.9042   \n",
       "2          4.8302          10.6120      -0.7699       -339.1856   \n",
       "3          4.4468          10.0738      -0.7698       -332.9802   \n",
       "4          4.9901          10.9070      -0.7699       -332.9802   \n",
       "...           ...              ...          ...             ...   \n",
       "51290      3.5208           8.9996      -0.7969         98.4366   \n",
       "51291      2.8284           8.9764      -0.7969         98.4366   \n",
       "51292      2.8082           8.9818      -0.7969         98.4366   \n",
       "51293      2.9400           8.9237      -0.7969         92.6699   \n",
       "51294      3.4937           8.9588      -0.7969         71.6456   \n",
       "\n",
       "       Ambient temperature  Active power  \n",
       "0                  28.4515      212.3730  \n",
       "1                  28.5000      198.8769  \n",
       "2                  28.5209      173.8923  \n",
       "3                  28.4043      148.1184  \n",
       "4                  28.3688      188.0684  \n",
       "...                    ...           ...  \n",
       "51290              27.6533       72.0548  \n",
       "51291              27.6997       34.9057  \n",
       "51292              27.6811       39.1213  \n",
       "51293              27.6045       32.1846  \n",
       "51294              27.5823       67.1899  \n",
       "\n",
       "[51295 rows x 6 columns]"
      ]
     },
     "execution_count": 3,
     "metadata": {},
     "output_type": "execute_result"
    }
   ],
   "source": [
    "dataset"
   ]
  },
  {
   "cell_type": "code",
   "execution_count": 4,
   "id": "05d31b2c",
   "metadata": {},
   "outputs": [],
   "source": [
    "x = dataset.drop(\"Active power\", axis = 1)\n",
    "y = dataset[\"Active power\"] "
   ]
  },
  {
   "cell_type": "code",
   "execution_count": 5,
   "id": "dd007702",
   "metadata": {},
   "outputs": [],
   "source": [
    "from sklearn.model_selection import train_test_split\n",
    "\n",
    "x_train, x_test, y_train, y_test = train_test_split(x, y, test_size = 0.20, random_state = 2)"
   ]
  },
  {
   "cell_type": "code",
   "execution_count": 6,
   "id": "09c1074f",
   "metadata": {},
   "outputs": [],
   "source": [
    "from sklearn.preprocessing import StandardScaler\n",
    "\n",
    "scaler = StandardScaler()\n",
    "# Fit only on X_train\n",
    "scaler.fit(x_train)\n",
    "\n",
    "# Scale both X_train and X_test\n",
    "x_train = scaler.transform(x_train)\n",
    "x_test = scaler.transform(x_test)"
   ]
  },
  {
   "cell_type": "code",
   "execution_count": 7,
   "id": "9da5d68f",
   "metadata": {},
   "outputs": [],
   "source": [
    "from sklearn.neighbors import KNeighborsRegressor\n",
    "\n",
    "knn_model = KNeighborsRegressor().fit(x_train, y_train)\n",
    "y_pred = knn_model.predict(x_test)"
   ]
  },
  {
   "cell_type": "code",
   "execution_count": 9,
   "id": "ef7173f8",
   "metadata": {},
   "outputs": [
    {
     "data": {
      "text/html": [
       "<div>\n",
       "<style scoped>\n",
       "    .dataframe tbody tr th:only-of-type {\n",
       "        vertical-align: middle;\n",
       "    }\n",
       "\n",
       "    .dataframe tbody tr th {\n",
       "        vertical-align: top;\n",
       "    }\n",
       "\n",
       "    .dataframe thead th {\n",
       "        text-align: right;\n",
       "    }\n",
       "</style>\n",
       "<table border=\"1\" class=\"dataframe\">\n",
       "  <thead>\n",
       "    <tr style=\"text-align: right;\">\n",
       "      <th></th>\n",
       "      <th>count</th>\n",
       "      <th>mean</th>\n",
       "      <th>std</th>\n",
       "      <th>min</th>\n",
       "      <th>25%</th>\n",
       "      <th>50%</th>\n",
       "      <th>75%</th>\n",
       "      <th>max</th>\n",
       "    </tr>\n",
       "  </thead>\n",
       "  <tbody>\n",
       "    <tr>\n",
       "      <th>Wind speed</th>\n",
       "      <td>41036.0</td>\n",
       "      <td>2.188034e-16</td>\n",
       "      <td>1.000012</td>\n",
       "      <td>-2.508134</td>\n",
       "      <td>-0.664713</td>\n",
       "      <td>-0.122402</td>\n",
       "      <td>0.624364</td>\n",
       "      <td>4.348359</td>\n",
       "    </tr>\n",
       "    <tr>\n",
       "      <th>Generator speed</th>\n",
       "      <td>41036.0</td>\n",
       "      <td>2.331073e-16</td>\n",
       "      <td>1.000012</td>\n",
       "      <td>-3.056986</td>\n",
       "      <td>-0.565664</td>\n",
       "      <td>0.166439</td>\n",
       "      <td>0.920612</td>\n",
       "      <td>0.985166</td>\n",
       "    </tr>\n",
       "    <tr>\n",
       "      <th>Blade angle</th>\n",
       "      <td>41036.0</td>\n",
       "      <td>2.975358e-17</td>\n",
       "      <td>1.000012</td>\n",
       "      <td>-6.587204</td>\n",
       "      <td>-0.346905</td>\n",
       "      <td>-0.326963</td>\n",
       "      <td>-0.195840</td>\n",
       "      <td>6.351605</td>\n",
       "    </tr>\n",
       "    <tr>\n",
       "      <th>Wind direction</th>\n",
       "      <td>41036.0</td>\n",
       "      <td>3.456799e-17</td>\n",
       "      <td>1.000012</td>\n",
       "      <td>-2.314777</td>\n",
       "      <td>-0.920760</td>\n",
       "      <td>0.249823</td>\n",
       "      <td>0.758135</td>\n",
       "      <td>5.254570</td>\n",
       "    </tr>\n",
       "    <tr>\n",
       "      <th>Ambient temperature</th>\n",
       "      <td>41036.0</td>\n",
       "      <td>2.007741e-15</td>\n",
       "      <td>1.000012</td>\n",
       "      <td>-18.181746</td>\n",
       "      <td>-0.644883</td>\n",
       "      <td>-0.126631</td>\n",
       "      <td>0.590441</td>\n",
       "      <td>4.781480</td>\n",
       "    </tr>\n",
       "  </tbody>\n",
       "</table>\n",
       "</div>"
      ],
      "text/plain": [
       "                       count          mean       std        min       25%  \\\n",
       "Wind speed           41036.0  2.188034e-16  1.000012  -2.508134 -0.664713   \n",
       "Generator speed      41036.0  2.331073e-16  1.000012  -3.056986 -0.565664   \n",
       "Blade angle          41036.0  2.975358e-17  1.000012  -6.587204 -0.346905   \n",
       "Wind direction       41036.0  3.456799e-17  1.000012  -2.314777 -0.920760   \n",
       "Ambient temperature  41036.0  2.007741e-15  1.000012 -18.181746 -0.644883   \n",
       "\n",
       "                          50%       75%       max  \n",
       "Wind speed          -0.122402  0.624364  4.348359  \n",
       "Generator speed      0.166439  0.920612  0.985166  \n",
       "Blade angle         -0.326963 -0.195840  6.351605  \n",
       "Wind direction       0.249823  0.758135  5.254570  \n",
       "Ambient temperature -0.126631  0.590441  4.781480  "
      ]
     },
     "execution_count": 9,
     "metadata": {},
     "output_type": "execute_result"
    }
   ],
   "source": [
    "col_names=['Wind speed', 'Generator speed', 'Blade angle', 'Wind direction', 'Ambient temperature']\n",
    "scaled_df = pd.DataFrame(x_train, columns=col_names)\n",
    "scaled_df.describe().T"
   ]
  },
  {
   "cell_type": "code",
   "execution_count": 10,
   "id": "dbc340f1",
   "metadata": {},
   "outputs": [
    {
     "data": {
      "text/html": [
       "<style>#sk-container-id-1 {color: black;background-color: white;}#sk-container-id-1 pre{padding: 0;}#sk-container-id-1 div.sk-toggleable {background-color: white;}#sk-container-id-1 label.sk-toggleable__label {cursor: pointer;display: block;width: 100%;margin-bottom: 0;padding: 0.3em;box-sizing: border-box;text-align: center;}#sk-container-id-1 label.sk-toggleable__label-arrow:before {content: \"▸\";float: left;margin-right: 0.25em;color: #696969;}#sk-container-id-1 label.sk-toggleable__label-arrow:hover:before {color: black;}#sk-container-id-1 div.sk-estimator:hover label.sk-toggleable__label-arrow:before {color: black;}#sk-container-id-1 div.sk-toggleable__content {max-height: 0;max-width: 0;overflow: hidden;text-align: left;background-color: #f0f8ff;}#sk-container-id-1 div.sk-toggleable__content pre {margin: 0.2em;color: black;border-radius: 0.25em;background-color: #f0f8ff;}#sk-container-id-1 input.sk-toggleable__control:checked~div.sk-toggleable__content {max-height: 200px;max-width: 100%;overflow: auto;}#sk-container-id-1 input.sk-toggleable__control:checked~label.sk-toggleable__label-arrow:before {content: \"▾\";}#sk-container-id-1 div.sk-estimator input.sk-toggleable__control:checked~label.sk-toggleable__label {background-color: #d4ebff;}#sk-container-id-1 div.sk-label input.sk-toggleable__control:checked~label.sk-toggleable__label {background-color: #d4ebff;}#sk-container-id-1 input.sk-hidden--visually {border: 0;clip: rect(1px 1px 1px 1px);clip: rect(1px, 1px, 1px, 1px);height: 1px;margin: -1px;overflow: hidden;padding: 0;position: absolute;width: 1px;}#sk-container-id-1 div.sk-estimator {font-family: monospace;background-color: #f0f8ff;border: 1px dotted black;border-radius: 0.25em;box-sizing: border-box;margin-bottom: 0.5em;}#sk-container-id-1 div.sk-estimator:hover {background-color: #d4ebff;}#sk-container-id-1 div.sk-parallel-item::after {content: \"\";width: 100%;border-bottom: 1px solid gray;flex-grow: 1;}#sk-container-id-1 div.sk-label:hover label.sk-toggleable__label {background-color: #d4ebff;}#sk-container-id-1 div.sk-serial::before {content: \"\";position: absolute;border-left: 1px solid gray;box-sizing: border-box;top: 0;bottom: 0;left: 50%;z-index: 0;}#sk-container-id-1 div.sk-serial {display: flex;flex-direction: column;align-items: center;background-color: white;padding-right: 0.2em;padding-left: 0.2em;position: relative;}#sk-container-id-1 div.sk-item {position: relative;z-index: 1;}#sk-container-id-1 div.sk-parallel {display: flex;align-items: stretch;justify-content: center;background-color: white;position: relative;}#sk-container-id-1 div.sk-item::before, #sk-container-id-1 div.sk-parallel-item::before {content: \"\";position: absolute;border-left: 1px solid gray;box-sizing: border-box;top: 0;bottom: 0;left: 50%;z-index: -1;}#sk-container-id-1 div.sk-parallel-item {display: flex;flex-direction: column;z-index: 1;position: relative;background-color: white;}#sk-container-id-1 div.sk-parallel-item:first-child::after {align-self: flex-end;width: 50%;}#sk-container-id-1 div.sk-parallel-item:last-child::after {align-self: flex-start;width: 50%;}#sk-container-id-1 div.sk-parallel-item:only-child::after {width: 0;}#sk-container-id-1 div.sk-dashed-wrapped {border: 1px dashed gray;margin: 0 0.4em 0.5em 0.4em;box-sizing: border-box;padding-bottom: 0.4em;background-color: white;}#sk-container-id-1 div.sk-label label {font-family: monospace;font-weight: bold;display: inline-block;line-height: 1.2em;}#sk-container-id-1 div.sk-label-container {text-align: center;}#sk-container-id-1 div.sk-container {/* jupyter's `normalize.less` sets `[hidden] { display: none; }` but bootstrap.min.css set `[hidden] { display: none !important; }` so we also need the `!important` here to be able to override the default hidden behavior on the sphinx rendered scikit-learn.org. See: https://github.com/scikit-learn/scikit-learn/issues/21755 */display: inline-block !important;position: relative;}#sk-container-id-1 div.sk-text-repr-fallback {display: none;}</style><div id=\"sk-container-id-1\" class=\"sk-top-container\"><div class=\"sk-text-repr-fallback\"><pre>KNeighborsRegressor()</pre><b>In a Jupyter environment, please rerun this cell to show the HTML representation or trust the notebook. <br />On GitHub, the HTML representation is unable to render, please try loading this page with nbviewer.org.</b></div><div class=\"sk-container\" hidden><div class=\"sk-item\"><div class=\"sk-estimator sk-toggleable\"><input class=\"sk-toggleable__control sk-hidden--visually\" id=\"sk-estimator-id-1\" type=\"checkbox\" checked><label for=\"sk-estimator-id-1\" class=\"sk-toggleable__label sk-toggleable__label-arrow\">KNeighborsRegressor</label><div class=\"sk-toggleable__content\"><pre>KNeighborsRegressor()</pre></div></div></div></div></div>"
      ],
      "text/plain": [
       "KNeighborsRegressor()"
      ]
     },
     "execution_count": 10,
     "metadata": {},
     "output_type": "execute_result"
    }
   ],
   "source": [
    "from sklearn.neighbors import KNeighborsRegressor\n",
    "regressor = KNeighborsRegressor(n_neighbors=5)\n",
    "regressor.fit(x_train, y_train)"
   ]
  },
  {
   "cell_type": "code",
   "execution_count": 11,
   "id": "69bc2e51",
   "metadata": {},
   "outputs": [],
   "source": [
    "y_pred = regressor.predict(x_test)"
   ]
  },
  {
   "cell_type": "code",
   "execution_count": 12,
   "id": "2dc98b6a",
   "metadata": {},
   "outputs": [
    {
     "data": {
      "text/plain": [
       "array([1053.3404 ,    0.     ,  130.97458, ...,  406.48054,  590.00606,\n",
       "        734.24072])"
      ]
     },
     "execution_count": 12,
     "metadata": {},
     "output_type": "execute_result"
    }
   ],
   "source": [
    "y_pred"
   ]
  },
  {
   "cell_type": "code",
   "execution_count": 19,
   "id": "f91e6052",
   "metadata": {},
   "outputs": [
    {
     "data": {
      "text/html": [
       "<div>\n",
       "<style scoped>\n",
       "    .dataframe tbody tr th:only-of-type {\n",
       "        vertical-align: middle;\n",
       "    }\n",
       "\n",
       "    .dataframe tbody tr th {\n",
       "        vertical-align: top;\n",
       "    }\n",
       "\n",
       "    .dataframe thead th {\n",
       "        text-align: right;\n",
       "    }\n",
       "</style>\n",
       "<table border=\"1\" class=\"dataframe\">\n",
       "  <thead>\n",
       "    <tr style=\"text-align: right;\">\n",
       "      <th></th>\n",
       "      <th>y_Test</th>\n",
       "      <th>y_Predicted</th>\n",
       "    </tr>\n",
       "  </thead>\n",
       "  <tbody>\n",
       "    <tr>\n",
       "      <th>22645</th>\n",
       "      <td>1080.2590</td>\n",
       "      <td>1053.34040</td>\n",
       "    </tr>\n",
       "    <tr>\n",
       "      <th>18933</th>\n",
       "      <td>0.0000</td>\n",
       "      <td>0.00000</td>\n",
       "    </tr>\n",
       "    <tr>\n",
       "      <th>18075</th>\n",
       "      <td>127.2342</td>\n",
       "      <td>130.97458</td>\n",
       "    </tr>\n",
       "    <tr>\n",
       "      <th>26551</th>\n",
       "      <td>508.1064</td>\n",
       "      <td>497.00174</td>\n",
       "    </tr>\n",
       "    <tr>\n",
       "      <th>43618</th>\n",
       "      <td>0.0000</td>\n",
       "      <td>0.00000</td>\n",
       "    </tr>\n",
       "  </tbody>\n",
       "</table>\n",
       "</div>"
      ],
      "text/plain": [
       "          y_Test  y_Predicted\n",
       "22645  1080.2590   1053.34040\n",
       "18933     0.0000      0.00000\n",
       "18075   127.2342    130.97458\n",
       "26551   508.1064    497.00174\n",
       "43618     0.0000      0.00000"
      ]
     },
     "execution_count": 19,
     "metadata": {},
     "output_type": "execute_result"
    }
   ],
   "source": [
    "predict_df = pd.DataFrame({\"y_Test\" : y_test, \"y_Predicted\" : y_pred})\n",
    "predict_df.head()"
   ]
  },
  {
   "cell_type": "code",
   "execution_count": 20,
   "id": "5f67eef7",
   "metadata": {},
   "outputs": [
    {
     "name": "stdout",
     "output_type": "stream",
     "text": [
      "mae: 11.88953090554635\n",
      "mse: 420.3318120748405\n",
      "rmse: 20.501995319354663\n"
     ]
    }
   ],
   "source": [
    "from sklearn.metrics import mean_absolute_error, mean_squared_error\n",
    "\n",
    "mae = mean_absolute_error(y_test, y_pred)\n",
    "mse = mean_squared_error(y_test, y_pred)\n",
    "rmse = mean_squared_error(y_test, y_pred, squared=False)\n",
    "\n",
    "print(f'mae: {mae}')\n",
    "print(f'mse: {mse}')\n",
    "print(f'rmse: {rmse}')"
   ]
  },
  {
   "cell_type": "markdown",
   "id": "3934f6a7",
   "metadata": {},
   "source": [
    "The R2 can be calculated directly with the score() method:"
   ]
  },
  {
   "cell_type": "code",
   "execution_count": 21,
   "id": "07a7db35",
   "metadata": {},
   "outputs": [
    {
     "data": {
      "text/plain": [
       "0.9976396916213702"
      ]
     },
     "execution_count": 21,
     "metadata": {},
     "output_type": "execute_result"
    }
   ],
   "source": [
    "regressor.score(x_test, y_test)"
   ]
  },
  {
   "cell_type": "code",
   "execution_count": 22,
   "id": "d6b85e46",
   "metadata": {},
   "outputs": [
    {
     "data": {
      "text/plain": [
       "count    51295.000000\n",
       "mean       523.054998\n",
       "std        423.880103\n",
       "min         -0.837900\n",
       "25%        177.852100\n",
       "50%        391.038300\n",
       "75%        832.220000\n",
       "max       1379.842000\n",
       "Name: Active power, dtype: float64"
      ]
     },
     "execution_count": 22,
     "metadata": {},
     "output_type": "execute_result"
    }
   ],
   "source": [
    "y.describe()"
   ]
  },
  {
   "cell_type": "markdown",
   "id": "1edec721",
   "metadata": {},
   "source": [
    "#### Parameter Tuning"
   ]
  },
  {
   "cell_type": "code",
   "execution_count": 23,
   "id": "1606930d",
   "metadata": {},
   "outputs": [],
   "source": [
    "error = []\n",
    "\n",
    "# Calculating MAE error for K values between 1 and 39\n",
    "for i in range(1, 40):\n",
    "    knn = KNeighborsRegressor(n_neighbors=i)\n",
    "    knn.fit(x_train, y_train)\n",
    "    pred_i = knn.predict(x_test)\n",
    "    mae = mean_absolute_error(y_test, pred_i)\n",
    "    error.append(mae)"
   ]
  },
  {
   "cell_type": "code",
   "execution_count": 24,
   "id": "6232c53f",
   "metadata": {},
   "outputs": [
    {
     "data": {
      "text/plain": [
       "Text(0, 0.5, 'Mean Absolute Error')"
      ]
     },
     "execution_count": 24,
     "metadata": {},
     "output_type": "execute_result"
    },
    {
     "data": {
      "image/png": "[encoded data removed]",
      "text/plain": [
       "<Figure size 864x432 with 1 Axes>"
      ]
     },
     "metadata": {
      "needs_background": "light"
     },
     "output_type": "display_data"
    }
   ],
   "source": [
    "import matplotlib.pyplot as plt \n",
    "\n",
    "plt.figure(figsize=(12, 6))\n",
    "plt.plot(range(1, 40), error, color='red', \n",
    "         linestyle='dashed', marker='o',\n",
    "         markerfacecolor='blue', markersize=10)\n",
    "         \n",
    "plt.title('K Value MAE')\n",
    "plt.xlabel('K Value')\n",
    "plt.ylabel('Mean Absolute Error')"
   ]
  },
  {
   "cell_type": "markdown",
   "id": "cc3ff42d",
   "metadata": {},
   "source": [
    "Looking at the plot, it seems the lowest MAE value is when K is 10.\n",
    "Let's get a closer look at the plot to be sure by plotting less data:"
   ]
  },
  {
   "cell_type": "code",
   "execution_count": 25,
   "id": "20ae5110",
   "metadata": {},
   "outputs": [
    {
     "data": {
      "text/plain": [
       "Text(0, 0.5, 'Mean Absolute Error')"
      ]
     },
     "execution_count": 25,
     "metadata": {},
     "output_type": "execute_result"
    },
    {
     "data": {
      "image/png": "[encoded data removed]",
      "text/plain": [
       "<Figure size 864x432 with 1 Axes>"
      ]
     },
     "metadata": {
      "needs_background": "light"
     },
     "output_type": "display_data"
    }
   ],
   "source": [
    "plt.figure(figsize=(12, 6))\n",
    "plt.plot(range(1, 15), error[:14], color='red', \n",
    "         linestyle='dashed', marker='o',\n",
    "         markerfacecolor='blue', markersize=10)\n",
    "plt.title('K Value MAE')\n",
    "plt.xlabel('K Value')\n",
    "plt.ylabel('Mean Absolute Error')"
   ]
  },
  {
   "cell_type": "markdown",
   "id": "51bd9c1a",
   "metadata": {},
   "source": [
    "You can also obtain the lowest error and the index of that point using the built-in min() function (works on lists) or convert the list into a NumPy array and get the argmin() (index of the element with the lowest value)"
   ]
  },
  {
   "cell_type": "code",
   "execution_count": 27,
   "id": "ff840786",
   "metadata": {},
   "outputs": [
    {
     "name": "stdout",
     "output_type": "stream",
     "text": [
      "11.635010427916951\n",
      "9\n"
     ]
    }
   ],
   "source": [
    "import numpy as np \n",
    "\n",
    "print(min(error))               \n",
    "print(np.array(error).argmin()) "
   ]
  },
  {
   "cell_type": "markdown",
   "id": "92d96d9d",
   "metadata": {},
   "source": [
    "We started counting neighbors on 1, while arrays are 0-based, so the 9th index is 10 neighbors!\n",
    "\n",
    "This means that we need 10 neighbors to be able to predict a point with the lowest MAE error. \n",
    "We can execute the model and metrics again with 10 neighbors to compare results"
   ]
  },
  {
   "cell_type": "code",
   "execution_count": 30,
   "id": "90477913",
   "metadata": {},
   "outputs": [
    {
     "name": "stdout",
     "output_type": "stream",
     "text": [
      "r2: 0.9975913329526471, \n",
      "mae: 11.635010427916951 \n",
      "mse: 428.9436896743676 \n",
      "rmse: 20.710955788528146\n"
     ]
    }
   ],
   "source": [
    "knn_reg12 = KNeighborsRegressor(n_neighbors=10)\n",
    "knn_reg12.fit(x_train, y_train)\n",
    "y_pred12 = knn_reg12.predict(x_test)\n",
    "r2 = knn_reg12.score(x_test, y_test) \n",
    "\n",
    "mae12 = mean_absolute_error(y_test, y_pred12)\n",
    "mse12 = mean_squared_error(y_test, y_pred12)\n",
    "rmse12 = mean_squared_error(y_test, y_pred12, squared=False)\n",
    "print(f'r2: {r2}, \\nmae: {mae12} \\nmse: {mse12} \\nrmse: {rmse12}')"
   ]
  },
  {
   "cell_type": "markdown",
   "id": "173043b3",
   "metadata": {},
   "source": [
    "https://stackabuse.com/k-nearest-neighbors-algorithm-in-python-and-scikit-learn/"
   ]
  },
  {
   "cell_type": "markdown",
   "id": "67f04382",
   "metadata": {},
   "source": [
    "https://www.kaggle.com/code/hamzatanc/k-nearest-neighbors-regression"
   ]
  }
 ],
 "metadata": {
  "kernelspec": {
   "display_name": "Python 3",
   "language": "python",
   "name": "python3"
  },
  "language_info": {
   "codemirror_mode": {
    "name": "ipython",
    "version": 3
   },
   "file_extension": ".py",
   "mimetype": "text/x-python",
   "name": "python",
   "nbconvert_exporter": "python",
   "pygments_lexer": "ipython3",
   "version": "3.8.8"
  }
 },
 "nbformat": 4,
 "nbformat_minor": 5
}
