{
 "cells": [
  {
   "cell_type": "markdown",
   "id": "edec1892",
   "metadata": {},
   "source": [
    "# Model: KNN"
   ]
  },
  {
   "cell_type": "code",
   "execution_count": 1,
   "id": "e91661b4",
   "metadata": {},
   "outputs": [
    {
     "data": {
      "text/html": [
       "<div>\n",
       "<style scoped>\n",
       "    .dataframe tbody tr th:only-of-type {\n",
       "        vertical-align: middle;\n",
       "    }\n",
       "\n",
       "    .dataframe tbody tr th {\n",
       "        vertical-align: top;\n",
       "    }\n",
       "\n",
       "    .dataframe thead th {\n",
       "        text-align: right;\n",
       "    }\n",
       "</style>\n",
       "<table border=\"1\" class=\"dataframe\">\n",
       "  <thead>\n",
       "    <tr style=\"text-align: right;\">\n",
       "      <th></th>\n",
       "      <th>Wind speed</th>\n",
       "      <th>Generator speed</th>\n",
       "      <th>Blade angle</th>\n",
       "      <th>Wind direction</th>\n",
       "      <th>Ambient temperature</th>\n",
       "      <th>Active power</th>\n",
       "    </tr>\n",
       "    <tr>\n",
       "      <th>Time</th>\n",
       "      <th></th>\n",
       "      <th></th>\n",
       "      <th></th>\n",
       "      <th></th>\n",
       "      <th></th>\n",
       "      <th></th>\n",
       "    </tr>\n",
       "  </thead>\n",
       "  <tbody>\n",
       "    <tr>\n",
       "      <th>2020-01-01 00:00:00</th>\n",
       "      <td>4.925817</td>\n",
       "      <td>10.938283</td>\n",
       "      <td>-0.769883</td>\n",
       "      <td>-337.491817</td>\n",
       "      <td>28.426233</td>\n",
       "      <td>191.225983</td>\n",
       "    </tr>\n",
       "    <tr>\n",
       "      <th>2020-01-01 01:00:00</th>\n",
       "      <td>5.592000</td>\n",
       "      <td>12.452083</td>\n",
       "      <td>-0.769833</td>\n",
       "      <td>-332.980200</td>\n",
       "      <td>28.103967</td>\n",
       "      <td>290.682000</td>\n",
       "    </tr>\n",
       "    <tr>\n",
       "      <th>2020-01-01 02:00:00</th>\n",
       "      <td>5.129100</td>\n",
       "      <td>11.393017</td>\n",
       "      <td>-0.769883</td>\n",
       "      <td>-334.400667</td>\n",
       "      <td>28.052650</td>\n",
       "      <td>217.358167</td>\n",
       "    </tr>\n",
       "    <tr>\n",
       "      <th>2020-01-01 03:00:00</th>\n",
       "      <td>4.320550</td>\n",
       "      <td>10.504867</td>\n",
       "      <td>-0.769733</td>\n",
       "      <td>-337.342867</td>\n",
       "      <td>27.942000</td>\n",
       "      <td>166.289250</td>\n",
       "    </tr>\n",
       "    <tr>\n",
       "      <th>2020-01-01 04:00:00</th>\n",
       "      <td>4.401067</td>\n",
       "      <td>10.000917</td>\n",
       "      <td>-0.769833</td>\n",
       "      <td>-352.839817</td>\n",
       "      <td>27.935250</td>\n",
       "      <td>143.285783</td>\n",
       "    </tr>\n",
       "  </tbody>\n",
       "</table>\n",
       "</div>"
      ],
      "text/plain": [
       "                     Wind speed  Generator speed  Blade angle  Wind direction  \\\n",
       "Time                                                                            \n",
       "2020-01-01 00:00:00    4.925817        10.938283    -0.769883     -337.491817   \n",
       "2020-01-01 01:00:00    5.592000        12.452083    -0.769833     -332.980200   \n",
       "2020-01-01 02:00:00    5.129100        11.393017    -0.769883     -334.400667   \n",
       "2020-01-01 03:00:00    4.320550        10.504867    -0.769733     -337.342867   \n",
       "2020-01-01 04:00:00    4.401067        10.000917    -0.769833     -352.839817   \n",
       "\n",
       "                     Ambient temperature  Active power  \n",
       "Time                                                    \n",
       "2020-01-01 00:00:00            28.426233    191.225983  \n",
       "2020-01-01 01:00:00            28.103967    290.682000  \n",
       "2020-01-01 02:00:00            28.052650    217.358167  \n",
       "2020-01-01 03:00:00            27.942000    166.289250  \n",
       "2020-01-01 04:00:00            27.935250    143.285783  "
      ]
     },
     "execution_count": 1,
     "metadata": {},
     "output_type": "execute_result"
    }
   ],
   "source": [
    "import pandas as pd\n",
    "import numpy as np\n",
    "\n",
    "import warnings\n",
    "warnings.filterwarnings('ignore' )\n",
    "\n",
    "df=pd.read_csv('H_data.csv',index_col='Time',parse_dates=True)\n",
    "df.head(5)"
   ]
  },
  {
   "cell_type": "code",
   "execution_count": 2,
   "id": "05d31b2c",
   "metadata": {},
   "outputs": [],
   "source": [
    "x = df.drop(\"Active power\", axis = 1)\n",
    "y = df[\"Active power\"] \n",
    "\n",
    "from sklearn.model_selection import train_test_split\n",
    "\n",
    "x_train, x_test, y_train, y_test = train_test_split(x, y, test_size = 0.20, random_state = 2)"
   ]
  },
  {
   "cell_type": "code",
   "execution_count": 3,
   "id": "09c1074f",
   "metadata": {},
   "outputs": [],
   "source": [
    "from sklearn.preprocessing import StandardScaler\n",
    "\n",
    "scaler = StandardScaler()\n",
    "# Fit only on X_train\n",
    "scaler.fit(x_train)\n",
    "\n",
    "# Scale both X_train and X_test\n",
    "x_train = scaler.transform(x_train)\n",
    "x_test = scaler.transform(x_test)"
   ]
  },
  {
   "cell_type": "code",
   "execution_count": 4,
   "id": "dbc340f1",
   "metadata": {},
   "outputs": [
    {
     "data": {
      "text/html": [
       "<style>#sk-container-id-1 {color: black;background-color: white;}#sk-container-id-1 pre{padding: 0;}#sk-container-id-1 div.sk-toggleable {background-color: white;}#sk-container-id-1 label.sk-toggleable__label {cursor: pointer;display: block;width: 100%;margin-bottom: 0;padding: 0.3em;box-sizing: border-box;text-align: center;}#sk-container-id-1 label.sk-toggleable__label-arrow:before {content: \"▸\";float: left;margin-right: 0.25em;color: #696969;}#sk-container-id-1 label.sk-toggleable__label-arrow:hover:before {color: black;}#sk-container-id-1 div.sk-estimator:hover label.sk-toggleable__label-arrow:before {color: black;}#sk-container-id-1 div.sk-toggleable__content {max-height: 0;max-width: 0;overflow: hidden;text-align: left;background-color: #f0f8ff;}#sk-container-id-1 div.sk-toggleable__content pre {margin: 0.2em;color: black;border-radius: 0.25em;background-color: #f0f8ff;}#sk-container-id-1 input.sk-toggleable__control:checked~div.sk-toggleable__content {max-height: 200px;max-width: 100%;overflow: auto;}#sk-container-id-1 input.sk-toggleable__control:checked~label.sk-toggleable__label-arrow:before {content: \"▾\";}#sk-container-id-1 div.sk-estimator input.sk-toggleable__control:checked~label.sk-toggleable__label {background-color: #d4ebff;}#sk-container-id-1 div.sk-label input.sk-toggleable__control:checked~label.sk-toggleable__label {background-color: #d4ebff;}#sk-container-id-1 input.sk-hidden--visually {border: 0;clip: rect(1px 1px 1px 1px);clip: rect(1px, 1px, 1px, 1px);height: 1px;margin: -1px;overflow: hidden;padding: 0;position: absolute;width: 1px;}#sk-container-id-1 div.sk-estimator {font-family: monospace;background-color: #f0f8ff;border: 1px dotted black;border-radius: 0.25em;box-sizing: border-box;margin-bottom: 0.5em;}#sk-container-id-1 div.sk-estimator:hover {background-color: #d4ebff;}#sk-container-id-1 div.sk-parallel-item::after {content: \"\";width: 100%;border-bottom: 1px solid gray;flex-grow: 1;}#sk-container-id-1 div.sk-label:hover label.sk-toggleable__label {background-color: #d4ebff;}#sk-container-id-1 div.sk-serial::before {content: \"\";position: absolute;border-left: 1px solid gray;box-sizing: border-box;top: 0;bottom: 0;left: 50%;z-index: 0;}#sk-container-id-1 div.sk-serial {display: flex;flex-direction: column;align-items: center;background-color: white;padding-right: 0.2em;padding-left: 0.2em;position: relative;}#sk-container-id-1 div.sk-item {position: relative;z-index: 1;}#sk-container-id-1 div.sk-parallel {display: flex;align-items: stretch;justify-content: center;background-color: white;position: relative;}#sk-container-id-1 div.sk-item::before, #sk-container-id-1 div.sk-parallel-item::before {content: \"\";position: absolute;border-left: 1px solid gray;box-sizing: border-box;top: 0;bottom: 0;left: 50%;z-index: -1;}#sk-container-id-1 div.sk-parallel-item {display: flex;flex-direction: column;z-index: 1;position: relative;background-color: white;}#sk-container-id-1 div.sk-parallel-item:first-child::after {align-self: flex-end;width: 50%;}#sk-container-id-1 div.sk-parallel-item:last-child::after {align-self: flex-start;width: 50%;}#sk-container-id-1 div.sk-parallel-item:only-child::after {width: 0;}#sk-container-id-1 div.sk-dashed-wrapped {border: 1px dashed gray;margin: 0 0.4em 0.5em 0.4em;box-sizing: border-box;padding-bottom: 0.4em;background-color: white;}#sk-container-id-1 div.sk-label label {font-family: monospace;font-weight: bold;display: inline-block;line-height: 1.2em;}#sk-container-id-1 div.sk-label-container {text-align: center;}#sk-container-id-1 div.sk-container {/* jupyter's `normalize.less` sets `[hidden] { display: none; }` but bootstrap.min.css set `[hidden] { display: none !important; }` so we also need the `!important` here to be able to override the default hidden behavior on the sphinx rendered scikit-learn.org. See: https://github.com/scikit-learn/scikit-learn/issues/21755 */display: inline-block !important;position: relative;}#sk-container-id-1 div.sk-text-repr-fallback {display: none;}</style><div id=\"sk-container-id-1\" class=\"sk-top-container\"><div class=\"sk-text-repr-fallback\"><pre>KNeighborsRegressor()</pre><b>In a Jupyter environment, please rerun this cell to show the HTML representation or trust the notebook. <br />On GitHub, the HTML representation is unable to render, please try loading this page with nbviewer.org.</b></div><div class=\"sk-container\" hidden><div class=\"sk-item\"><div class=\"sk-estimator sk-toggleable\"><input class=\"sk-toggleable__control sk-hidden--visually\" id=\"sk-estimator-id-1\" type=\"checkbox\" checked><label for=\"sk-estimator-id-1\" class=\"sk-toggleable__label sk-toggleable__label-arrow\">KNeighborsRegressor</label><div class=\"sk-toggleable__content\"><pre>KNeighborsRegressor()</pre></div></div></div></div></div>"
      ],
      "text/plain": [
       "KNeighborsRegressor()"
      ]
     },
     "execution_count": 4,
     "metadata": {},
     "output_type": "execute_result"
    }
   ],
   "source": [
    "from sklearn.neighbors import KNeighborsRegressor\n",
    "regressor = KNeighborsRegressor(n_neighbors=5)\n",
    "regressor.fit(x_train, y_train)"
   ]
  },
  {
   "cell_type": "code",
   "execution_count": 5,
   "id": "69bc2e51",
   "metadata": {},
   "outputs": [],
   "source": [
    "y_pred = regressor.predict(x_test)"
   ]
  },
  {
   "cell_type": "code",
   "execution_count": 6,
   "id": "2dc98b6a",
   "metadata": {},
   "outputs": [
    {
     "data": {
      "text/plain": [
       "array([   0.        ,  350.16731   , 1310.0336002 , ...,  702.4447033 ,\n",
       "        251.91130334,  641.15508332])"
      ]
     },
     "execution_count": 6,
     "metadata": {},
     "output_type": "execute_result"
    }
   ],
   "source": [
    "y_pred"
   ]
  },
  {
   "cell_type": "code",
   "execution_count": 7,
   "id": "f91e6052",
   "metadata": {},
   "outputs": [
    {
     "data": {
      "text/html": [
       "<div>\n",
       "<style scoped>\n",
       "    .dataframe tbody tr th:only-of-type {\n",
       "        vertical-align: middle;\n",
       "    }\n",
       "\n",
       "    .dataframe tbody tr th {\n",
       "        vertical-align: top;\n",
       "    }\n",
       "\n",
       "    .dataframe thead th {\n",
       "        text-align: right;\n",
       "    }\n",
       "</style>\n",
       "<table border=\"1\" class=\"dataframe\">\n",
       "  <thead>\n",
       "    <tr style=\"text-align: right;\">\n",
       "      <th></th>\n",
       "      <th>y_Test</th>\n",
       "      <th>y_Predicted</th>\n",
       "    </tr>\n",
       "    <tr>\n",
       "      <th>Time</th>\n",
       "      <th></th>\n",
       "      <th></th>\n",
       "    </tr>\n",
       "  </thead>\n",
       "  <tbody>\n",
       "    <tr>\n",
       "      <th>2020-04-03 17:00:00</th>\n",
       "      <td>1.540483</td>\n",
       "      <td>0.000000</td>\n",
       "    </tr>\n",
       "    <tr>\n",
       "      <th>2020-03-15 20:00:00</th>\n",
       "      <td>364.438983</td>\n",
       "      <td>350.167310</td>\n",
       "    </tr>\n",
       "    <tr>\n",
       "      <th>2020-07-07 19:00:00</th>\n",
       "      <td>1326.903667</td>\n",
       "      <td>1310.033600</td>\n",
       "    </tr>\n",
       "    <tr>\n",
       "      <th>2020-01-27 16:00:00</th>\n",
       "      <td>309.168033</td>\n",
       "      <td>301.459970</td>\n",
       "    </tr>\n",
       "    <tr>\n",
       "      <th>2020-11-05 03:00:00</th>\n",
       "      <td>1161.968167</td>\n",
       "      <td>1207.868000</td>\n",
       "    </tr>\n",
       "    <tr>\n",
       "      <th>2020-10-30 04:00:00</th>\n",
       "      <td>0.000000</td>\n",
       "      <td>0.188570</td>\n",
       "    </tr>\n",
       "    <tr>\n",
       "      <th>2020-01-10 14:00:00</th>\n",
       "      <td>314.727300</td>\n",
       "      <td>313.066087</td>\n",
       "    </tr>\n",
       "    <tr>\n",
       "      <th>2020-08-20 16:00:00</th>\n",
       "      <td>492.090800</td>\n",
       "      <td>528.316523</td>\n",
       "    </tr>\n",
       "    <tr>\n",
       "      <th>2020-06-11 15:00:00</th>\n",
       "      <td>1306.816500</td>\n",
       "      <td>1333.364633</td>\n",
       "    </tr>\n",
       "    <tr>\n",
       "      <th>2020-05-09 08:00:00</th>\n",
       "      <td>0.000000</td>\n",
       "      <td>0.000000</td>\n",
       "    </tr>\n",
       "    <tr>\n",
       "      <th>2020-11-13 20:00:00</th>\n",
       "      <td>153.751817</td>\n",
       "      <td>149.086133</td>\n",
       "    </tr>\n",
       "    <tr>\n",
       "      <th>2020-08-16 19:00:00</th>\n",
       "      <td>347.780250</td>\n",
       "      <td>373.700663</td>\n",
       "    </tr>\n",
       "    <tr>\n",
       "      <th>2020-07-01 07:00:00</th>\n",
       "      <td>324.539867</td>\n",
       "      <td>345.101603</td>\n",
       "    </tr>\n",
       "    <tr>\n",
       "      <th>2020-09-06 01:00:00</th>\n",
       "      <td>1213.165500</td>\n",
       "      <td>1305.728700</td>\n",
       "    </tr>\n",
       "    <tr>\n",
       "      <th>2020-07-25 10:00:00</th>\n",
       "      <td>164.914900</td>\n",
       "      <td>184.972620</td>\n",
       "    </tr>\n",
       "    <tr>\n",
       "      <th>2020-09-23 07:00:00</th>\n",
       "      <td>598.889800</td>\n",
       "      <td>603.484527</td>\n",
       "    </tr>\n",
       "    <tr>\n",
       "      <th>2020-03-14 14:00:00</th>\n",
       "      <td>308.659683</td>\n",
       "      <td>307.052390</td>\n",
       "    </tr>\n",
       "    <tr>\n",
       "      <th>2020-06-06 17:00:00</th>\n",
       "      <td>794.920133</td>\n",
       "      <td>831.178357</td>\n",
       "    </tr>\n",
       "    <tr>\n",
       "      <th>2020-05-29 23:00:00</th>\n",
       "      <td>435.627483</td>\n",
       "      <td>437.636470</td>\n",
       "    </tr>\n",
       "    <tr>\n",
       "      <th>2020-03-19 05:00:00</th>\n",
       "      <td>202.163350</td>\n",
       "      <td>209.325630</td>\n",
       "    </tr>\n",
       "  </tbody>\n",
       "</table>\n",
       "</div>"
      ],
      "text/plain": [
       "                          y_Test  y_Predicted\n",
       "Time                                         \n",
       "2020-04-03 17:00:00     1.540483     0.000000\n",
       "2020-03-15 20:00:00   364.438983   350.167310\n",
       "2020-07-07 19:00:00  1326.903667  1310.033600\n",
       "2020-01-27 16:00:00   309.168033   301.459970\n",
       "2020-11-05 03:00:00  1161.968167  1207.868000\n",
       "2020-10-30 04:00:00     0.000000     0.188570\n",
       "2020-01-10 14:00:00   314.727300   313.066087\n",
       "2020-08-20 16:00:00   492.090800   528.316523\n",
       "2020-06-11 15:00:00  1306.816500  1333.364633\n",
       "2020-05-09 08:00:00     0.000000     0.000000\n",
       "2020-11-13 20:00:00   153.751817   149.086133\n",
       "2020-08-16 19:00:00   347.780250   373.700663\n",
       "2020-07-01 07:00:00   324.539867   345.101603\n",
       "2020-09-06 01:00:00  1213.165500  1305.728700\n",
       "2020-07-25 10:00:00   164.914900   184.972620\n",
       "2020-09-23 07:00:00   598.889800   603.484527\n",
       "2020-03-14 14:00:00   308.659683   307.052390\n",
       "2020-06-06 17:00:00   794.920133   831.178357\n",
       "2020-05-29 23:00:00   435.627483   437.636470\n",
       "2020-03-19 05:00:00   202.163350   209.325630"
      ]
     },
     "execution_count": 7,
     "metadata": {},
     "output_type": "execute_result"
    }
   ],
   "source": [
    "predict_df = pd.DataFrame({\"y_Test\" : y_test, \"y_Predicted\" : y_pred})\n",
    "predict_df.head(20)"
   ]
  },
  {
   "cell_type": "code",
   "execution_count": 8,
   "id": "721a8e6c",
   "metadata": {},
   "outputs": [],
   "source": [
    "#predict_df.to_csv('KNN_dataset.csv', sep=';')"
   ]
  },
  {
   "cell_type": "code",
   "execution_count": 9,
   "id": "05c43678",
   "metadata": {},
   "outputs": [
    {
     "data": {
      "text/plain": [
       "524.5310508054788"
      ]
     },
     "execution_count": 9,
     "metadata": {},
     "output_type": "execute_result"
    }
   ],
   "source": [
    "df['Active power'].mean()"
   ]
  },
  {
   "cell_type": "code",
   "execution_count": 10,
   "id": "1134ed27",
   "metadata": {},
   "outputs": [
    {
     "name": "stdout",
     "output_type": "stream",
     "text": [
      "R2-score: 0.9917361097001856\n",
      "RMSE: 36.6472886354982\n",
      "MAE: 17.309723177596016\n",
      "MSE: 1343.0237643335154\n"
     ]
    }
   ],
   "source": [
    "from sklearn.metrics import accuracy_score,r2_score,mean_absolute_error, mean_squared_error\n",
    "\n",
    "print('R2-score:',r2_score(y_test,y_pred))\n",
    "print('RMSE:',np.sqrt(mean_squared_error(y_test,y_pred)))\n",
    "print('MAE:',mean_absolute_error(y_test, y_pred))\n",
    "print('MSE:',mean_squared_error(y_test, y_pred))"
   ]
  },
  {
   "cell_type": "markdown",
   "id": "1edec721",
   "metadata": {},
   "source": [
    "#### Parameter Tuning"
   ]
  },
  {
   "cell_type": "code",
   "execution_count": 11,
   "id": "1606930d",
   "metadata": {},
   "outputs": [],
   "source": [
    "error = []\n",
    "\n",
    "# Calculating MAE error for K values between 1 and 39\n",
    "for i in range(1, 40):\n",
    "    knn = KNeighborsRegressor(n_neighbors=i)\n",
    "    knn.fit(x_train, y_train)\n",
    "    pred_i = knn.predict(x_test)\n",
    "    mae = mean_absolute_error(y_test, pred_i)\n",
    "    error.append(mae)"
   ]
  },
  {
   "cell_type": "code",
   "execution_count": 12,
   "id": "6232c53f",
   "metadata": {},
   "outputs": [
    {
     "data": {
      "text/plain": [
       "Text(0, 0.5, 'Mean Absolute Error')"
      ]
     },
     "execution_count": 12,
     "metadata": {},
     "output_type": "execute_result"
    },
    {
     "data": {
      "image/png": "[encoded data removed]",
      "text/plain": [
       "<Figure size 864x432 with 1 Axes>"
      ]
     },
     "metadata": {
      "needs_background": "light"
     },
     "output_type": "display_data"
    }
   ],
   "source": [
    "import matplotlib.pyplot as plt \n",
    "\n",
    "plt.figure(figsize=(12, 6))\n",
    "plt.plot(range(1, 40), error, color='red', \n",
    "         linestyle='dashed', marker='o',\n",
    "         markerfacecolor='blue', markersize=10)\n",
    "         \n",
    "plt.title('K Value MAE')\n",
    "plt.xlabel('K Value')\n",
    "plt.ylabel('Mean Absolute Error')"
   ]
  },
  {
   "cell_type": "markdown",
   "id": "cc3ff42d",
   "metadata": {},
   "source": [
    "Looking at the plot, it seems the lowest MAE value is when K is 7.\n",
    "Let's get a closer look at the plot to be sure by plotting less data:"
   ]
  },
  {
   "cell_type": "code",
   "execution_count": 13,
   "id": "20ae5110",
   "metadata": {},
   "outputs": [
    {
     "data": {
      "text/plain": [
       "Text(0, 0.5, 'Mean Absolute Error')"
      ]
     },
     "execution_count": 13,
     "metadata": {},
     "output_type": "execute_result"
    },
    {
     "data": {
      "image/png": "[encoded data removed]",
      "text/plain": [
       "<Figure size 864x432 with 1 Axes>"
      ]
     },
     "metadata": {
      "needs_background": "light"
     },
     "output_type": "display_data"
    }
   ],
   "source": [
    "plt.figure(figsize=(12, 6))\n",
    "plt.plot(range(1, 15), error[:14], color='red', \n",
    "         linestyle='dashed', marker='o',\n",
    "         markerfacecolor='blue', markersize=10)\n",
    "plt.title('K Value MAE')\n",
    "plt.xlabel('K Value')\n",
    "plt.ylabel('Mean Absolute Error')"
   ]
  },
  {
   "cell_type": "markdown",
   "id": "51bd9c1a",
   "metadata": {},
   "source": [
    "We can also obtain the lowest error and the index of that point using the built-in min() function (works on lists) or convert the list into a NumPy array and get the argmin() (index of the element with the lowest value)"
   ]
  },
  {
   "cell_type": "code",
   "execution_count": 14,
   "id": "ff840786",
   "metadata": {},
   "outputs": [
    {
     "name": "stdout",
     "output_type": "stream",
     "text": [
      "16.998570989855384\n",
      "2\n"
     ]
    }
   ],
   "source": [
    "import numpy as np \n",
    "\n",
    "print(min(error))               \n",
    "print(np.array(error).argmin()) "
   ]
  },
  {
   "cell_type": "markdown",
   "id": "92d96d9d",
   "metadata": {},
   "source": [
    "We started counting neighbors on 1, while arrays are 0-based, so the 6th index is 7 neighbors!\n",
    "\n",
    "This means that we need 7 neighbors to be able to predict a point with the lowest MAE error. \n",
    "We can execute the model and metrics again with 7 neighbors to compare results."
   ]
  },
  {
   "cell_type": "code",
   "execution_count": 15,
   "id": "90477913",
   "metadata": {},
   "outputs": [
    {
     "name": "stdout",
     "output_type": "stream",
     "text": [
      "R2-score1: 0.9917361097001856\n",
      "RMSE1: 36.6472886354982\n",
      "MAE1: 17.309723177596016\n",
      "MSE1: 1343.0237643335154\n"
     ]
    }
   ],
   "source": [
    "knn_reg12 = KNeighborsRegressor(n_neighbors=7)\n",
    "knn_reg12.fit(x_train, y_train)\n",
    "y_pred12 = knn_reg12.predict(x_test)\n",
    "r2 = knn_reg12.score(x_test, y_test) \n",
    "\n",
    "\n",
    "print('R2-score1:',r2_score(y_test,y_pred))\n",
    "print('RMSE1:',np.sqrt(mean_squared_error(y_test,y_pred)))\n",
    "print('MAE1:',mean_absolute_error(y_test, y_pred))\n",
    "print('MSE1:',mean_squared_error(y_test, y_pred))"
   ]
  }
 ],
 "metadata": {
  "kernelspec": {
   "display_name": "Python 3",
   "language": "python",
   "name": "python3"
  },
  "language_info": {
   "codemirror_mode": {
    "name": "ipython",
    "version": 3
   },
   "file_extension": ".py",
   "mimetype": "text/x-python",
   "name": "python",
   "nbconvert_exporter": "python",
   "pygments_lexer": "ipython3",
   "version": "3.8.8"
  }
 },
 "nbformat": 4,
 "nbformat_minor": 5
}
