{
 "cells": [
  {
   "cell_type": "code",
   "execution_count": 1,
   "id": "e91661b4",
   "metadata": {},
   "outputs": [],
   "source": [
    "import pandas as pd\n",
    "import numpy as np\n",
    "\n",
    "import warnings\n",
    "warnings.filterwarnings('ignore' )\n",
    "\n",
    "dataset = pd.read_csv(\"P_dataset.csv\")"
   ]
  },
  {
   "cell_type": "code",
   "execution_count": 2,
   "id": "34edf62b",
   "metadata": {},
   "outputs": [],
   "source": [
    "dataset.drop('Time', axis=1, inplace=True)"
   ]
  },
  {
   "cell_type": "code",
   "execution_count": 3,
   "id": "d3530dfa",
   "metadata": {},
   "outputs": [
    {
     "data": {
      "text/html": [
       "<div>\n",
       "<style scoped>\n",
       "    .dataframe tbody tr th:only-of-type {\n",
       "        vertical-align: middle;\n",
       "    }\n",
       "\n",
       "    .dataframe tbody tr th {\n",
       "        vertical-align: top;\n",
       "    }\n",
       "\n",
       "    .dataframe thead th {\n",
       "        text-align: right;\n",
       "    }\n",
       "</style>\n",
       "<table border=\"1\" class=\"dataframe\">\n",
       "  <thead>\n",
       "    <tr style=\"text-align: right;\">\n",
       "      <th></th>\n",
       "      <th>Wind speed</th>\n",
       "      <th>Generator speed</th>\n",
       "      <th>Blade angle</th>\n",
       "      <th>Wind direction</th>\n",
       "      <th>Ambient temperature</th>\n",
       "      <th>Active power</th>\n",
       "    </tr>\n",
       "  </thead>\n",
       "  <tbody>\n",
       "    <tr>\n",
       "      <th>0</th>\n",
       "      <td>5.1826</td>\n",
       "      <td>11.3582</td>\n",
       "      <td>-0.7699</td>\n",
       "      <td>-340.9205</td>\n",
       "      <td>28.4515</td>\n",
       "      <td>212.3730</td>\n",
       "    </tr>\n",
       "    <tr>\n",
       "      <th>1</th>\n",
       "      <td>4.9545</td>\n",
       "      <td>11.1044</td>\n",
       "      <td>-0.7699</td>\n",
       "      <td>-345.9042</td>\n",
       "      <td>28.5000</td>\n",
       "      <td>198.8769</td>\n",
       "    </tr>\n",
       "    <tr>\n",
       "      <th>2</th>\n",
       "      <td>4.8302</td>\n",
       "      <td>10.6120</td>\n",
       "      <td>-0.7699</td>\n",
       "      <td>-339.1856</td>\n",
       "      <td>28.5209</td>\n",
       "      <td>173.8923</td>\n",
       "    </tr>\n",
       "    <tr>\n",
       "      <th>3</th>\n",
       "      <td>4.4468</td>\n",
       "      <td>10.0738</td>\n",
       "      <td>-0.7698</td>\n",
       "      <td>-332.9802</td>\n",
       "      <td>28.4043</td>\n",
       "      <td>148.1184</td>\n",
       "    </tr>\n",
       "    <tr>\n",
       "      <th>4</th>\n",
       "      <td>4.9901</td>\n",
       "      <td>10.9070</td>\n",
       "      <td>-0.7699</td>\n",
       "      <td>-332.9802</td>\n",
       "      <td>28.3688</td>\n",
       "      <td>188.0684</td>\n",
       "    </tr>\n",
       "    <tr>\n",
       "      <th>...</th>\n",
       "      <td>...</td>\n",
       "      <td>...</td>\n",
       "      <td>...</td>\n",
       "      <td>...</td>\n",
       "      <td>...</td>\n",
       "      <td>...</td>\n",
       "    </tr>\n",
       "    <tr>\n",
       "      <th>51226</th>\n",
       "      <td>3.5208</td>\n",
       "      <td>8.9996</td>\n",
       "      <td>-0.7969</td>\n",
       "      <td>98.4366</td>\n",
       "      <td>27.6533</td>\n",
       "      <td>72.0548</td>\n",
       "    </tr>\n",
       "    <tr>\n",
       "      <th>51227</th>\n",
       "      <td>2.8284</td>\n",
       "      <td>8.9764</td>\n",
       "      <td>-0.7969</td>\n",
       "      <td>98.4366</td>\n",
       "      <td>27.6997</td>\n",
       "      <td>34.9057</td>\n",
       "    </tr>\n",
       "    <tr>\n",
       "      <th>51228</th>\n",
       "      <td>2.8082</td>\n",
       "      <td>8.9818</td>\n",
       "      <td>-0.7969</td>\n",
       "      <td>98.4366</td>\n",
       "      <td>27.6811</td>\n",
       "      <td>39.1213</td>\n",
       "    </tr>\n",
       "    <tr>\n",
       "      <th>51229</th>\n",
       "      <td>2.9400</td>\n",
       "      <td>8.9237</td>\n",
       "      <td>-0.7969</td>\n",
       "      <td>92.6699</td>\n",
       "      <td>27.6045</td>\n",
       "      <td>32.1846</td>\n",
       "    </tr>\n",
       "    <tr>\n",
       "      <th>51230</th>\n",
       "      <td>3.4937</td>\n",
       "      <td>8.9588</td>\n",
       "      <td>-0.7969</td>\n",
       "      <td>71.6456</td>\n",
       "      <td>27.5823</td>\n",
       "      <td>67.1899</td>\n",
       "    </tr>\n",
       "  </tbody>\n",
       "</table>\n",
       "<p>51231 rows × 6 columns</p>\n",
       "</div>"
      ],
      "text/plain": [
       "       Wind speed  Generator speed  Blade angle  Wind direction  \\\n",
       "0          5.1826          11.3582      -0.7699       -340.9205   \n",
       "1          4.9545          11.1044      -0.7699       -345.9042   \n",
       "2          4.8302          10.6120      -0.7699       -339.1856   \n",
       "3          4.4468          10.0738      -0.7698       -332.9802   \n",
       "4          4.9901          10.9070      -0.7699       -332.9802   \n",
       "...           ...              ...          ...             ...   \n",
       "51226      3.5208           8.9996      -0.7969         98.4366   \n",
       "51227      2.8284           8.9764      -0.7969         98.4366   \n",
       "51228      2.8082           8.9818      -0.7969         98.4366   \n",
       "51229      2.9400           8.9237      -0.7969         92.6699   \n",
       "51230      3.4937           8.9588      -0.7969         71.6456   \n",
       "\n",
       "       Ambient temperature  Active power  \n",
       "0                  28.4515      212.3730  \n",
       "1                  28.5000      198.8769  \n",
       "2                  28.5209      173.8923  \n",
       "3                  28.4043      148.1184  \n",
       "4                  28.3688      188.0684  \n",
       "...                    ...           ...  \n",
       "51226              27.6533       72.0548  \n",
       "51227              27.6997       34.9057  \n",
       "51228              27.6811       39.1213  \n",
       "51229              27.6045       32.1846  \n",
       "51230              27.5823       67.1899  \n",
       "\n",
       "[51231 rows x 6 columns]"
      ]
     },
     "execution_count": 3,
     "metadata": {},
     "output_type": "execute_result"
    }
   ],
   "source": [
    "dataset"
   ]
  },
  {
   "cell_type": "code",
   "execution_count": 4,
   "id": "05d31b2c",
   "metadata": {},
   "outputs": [],
   "source": [
    "x = dataset.drop(\"Active power\", axis = 1)\n",
    "y = dataset[\"Active power\"] "
   ]
  },
  {
   "cell_type": "code",
   "execution_count": 5,
   "id": "dd007702",
   "metadata": {},
   "outputs": [],
   "source": [
    "from sklearn.model_selection import train_test_split\n",
    "\n",
    "x_train, x_test, y_train, y_test = train_test_split(x, y, test_size = 0.20, random_state = 2)"
   ]
  },
  {
   "cell_type": "code",
   "execution_count": 6,
   "id": "9cafec11",
   "metadata": {},
   "outputs": [],
   "source": [
    "#Preprocessing – Scaling the features\n",
    "from sklearn.preprocessing import MinMaxScaler\n",
    "scaler = MinMaxScaler(feature_range=(0, 1))\n",
    "\n",
    "x_train_scaled = scaler.fit_transform(x_train)\n",
    "x_train = pd.DataFrame(x_train_scaled)\n",
    "\n",
    "x_test_scaled = scaler.fit_transform(x_test)\n",
    "x_test = pd.DataFrame(x_test_scaled)"
   ]
  },
  {
   "cell_type": "code",
   "execution_count": 7,
   "id": "9da5d68f",
   "metadata": {},
   "outputs": [],
   "source": [
    "from sklearn.neighbors import KNeighborsRegressor\n",
    "\n",
    "knn_model = KNeighborsRegressor().fit(x_train, y_train)\n",
    "y_pred = knn_model.predict(x_test)"
   ]
  },
  {
   "cell_type": "code",
   "execution_count": 8,
   "id": "dbc340f1",
   "metadata": {},
   "outputs": [
    {
     "data": {
      "text/html": [
       "<style>#sk-container-id-1 {color: black;background-color: white;}#sk-container-id-1 pre{padding: 0;}#sk-container-id-1 div.sk-toggleable {background-color: white;}#sk-container-id-1 label.sk-toggleable__label {cursor: pointer;display: block;width: 100%;margin-bottom: 0;padding: 0.3em;box-sizing: border-box;text-align: center;}#sk-container-id-1 label.sk-toggleable__label-arrow:before {content: \"▸\";float: left;margin-right: 0.25em;color: #696969;}#sk-container-id-1 label.sk-toggleable__label-arrow:hover:before {color: black;}#sk-container-id-1 div.sk-estimator:hover label.sk-toggleable__label-arrow:before {color: black;}#sk-container-id-1 div.sk-toggleable__content {max-height: 0;max-width: 0;overflow: hidden;text-align: left;background-color: #f0f8ff;}#sk-container-id-1 div.sk-toggleable__content pre {margin: 0.2em;color: black;border-radius: 0.25em;background-color: #f0f8ff;}#sk-container-id-1 input.sk-toggleable__control:checked~div.sk-toggleable__content {max-height: 200px;max-width: 100%;overflow: auto;}#sk-container-id-1 input.sk-toggleable__control:checked~label.sk-toggleable__label-arrow:before {content: \"▾\";}#sk-container-id-1 div.sk-estimator input.sk-toggleable__control:checked~label.sk-toggleable__label {background-color: #d4ebff;}#sk-container-id-1 div.sk-label input.sk-toggleable__control:checked~label.sk-toggleable__label {background-color: #d4ebff;}#sk-container-id-1 input.sk-hidden--visually {border: 0;clip: rect(1px 1px 1px 1px);clip: rect(1px, 1px, 1px, 1px);height: 1px;margin: -1px;overflow: hidden;padding: 0;position: absolute;width: 1px;}#sk-container-id-1 div.sk-estimator {font-family: monospace;background-color: #f0f8ff;border: 1px dotted black;border-radius: 0.25em;box-sizing: border-box;margin-bottom: 0.5em;}#sk-container-id-1 div.sk-estimator:hover {background-color: #d4ebff;}#sk-container-id-1 div.sk-parallel-item::after {content: \"\";width: 100%;border-bottom: 1px solid gray;flex-grow: 1;}#sk-container-id-1 div.sk-label:hover label.sk-toggleable__label {background-color: #d4ebff;}#sk-container-id-1 div.sk-serial::before {content: \"\";position: absolute;border-left: 1px solid gray;box-sizing: border-box;top: 0;bottom: 0;left: 50%;z-index: 0;}#sk-container-id-1 div.sk-serial {display: flex;flex-direction: column;align-items: center;background-color: white;padding-right: 0.2em;padding-left: 0.2em;position: relative;}#sk-container-id-1 div.sk-item {position: relative;z-index: 1;}#sk-container-id-1 div.sk-parallel {display: flex;align-items: stretch;justify-content: center;background-color: white;position: relative;}#sk-container-id-1 div.sk-item::before, #sk-container-id-1 div.sk-parallel-item::before {content: \"\";position: absolute;border-left: 1px solid gray;box-sizing: border-box;top: 0;bottom: 0;left: 50%;z-index: -1;}#sk-container-id-1 div.sk-parallel-item {display: flex;flex-direction: column;z-index: 1;position: relative;background-color: white;}#sk-container-id-1 div.sk-parallel-item:first-child::after {align-self: flex-end;width: 50%;}#sk-container-id-1 div.sk-parallel-item:last-child::after {align-self: flex-start;width: 50%;}#sk-container-id-1 div.sk-parallel-item:only-child::after {width: 0;}#sk-container-id-1 div.sk-dashed-wrapped {border: 1px dashed gray;margin: 0 0.4em 0.5em 0.4em;box-sizing: border-box;padding-bottom: 0.4em;background-color: white;}#sk-container-id-1 div.sk-label label {font-family: monospace;font-weight: bold;display: inline-block;line-height: 1.2em;}#sk-container-id-1 div.sk-label-container {text-align: center;}#sk-container-id-1 div.sk-container {/* jupyter's `normalize.less` sets `[hidden] { display: none; }` but bootstrap.min.css set `[hidden] { display: none !important; }` so we also need the `!important` here to be able to override the default hidden behavior on the sphinx rendered scikit-learn.org. See: https://github.com/scikit-learn/scikit-learn/issues/21755 */display: inline-block !important;position: relative;}#sk-container-id-1 div.sk-text-repr-fallback {display: none;}</style><div id=\"sk-container-id-1\" class=\"sk-top-container\"><div class=\"sk-text-repr-fallback\"><pre>KNeighborsRegressor()</pre><b>In a Jupyter environment, please rerun this cell to show the HTML representation or trust the notebook. <br />On GitHub, the HTML representation is unable to render, please try loading this page with nbviewer.org.</b></div><div class=\"sk-container\" hidden><div class=\"sk-item\"><div class=\"sk-estimator sk-toggleable\"><input class=\"sk-toggleable__control sk-hidden--visually\" id=\"sk-estimator-id-1\" type=\"checkbox\" checked><label for=\"sk-estimator-id-1\" class=\"sk-toggleable__label sk-toggleable__label-arrow\">KNeighborsRegressor</label><div class=\"sk-toggleable__content\"><pre>KNeighborsRegressor()</pre></div></div></div></div></div>"
      ],
      "text/plain": [
       "KNeighborsRegressor()"
      ]
     },
     "execution_count": 8,
     "metadata": {},
     "output_type": "execute_result"
    }
   ],
   "source": [
    "from sklearn.neighbors import KNeighborsRegressor\n",
    "regressor = KNeighborsRegressor(n_neighbors=5)\n",
    "regressor.fit(x_train, y_train)"
   ]
  },
  {
   "cell_type": "code",
   "execution_count": 9,
   "id": "69bc2e51",
   "metadata": {},
   "outputs": [],
   "source": [
    "y_pred = regressor.predict(x_test)"
   ]
  },
  {
   "cell_type": "code",
   "execution_count": 10,
   "id": "2dc98b6a",
   "metadata": {},
   "outputs": [
    {
     "data": {
      "text/plain": [
       "array([483.53968, 168.28464, 615.78048, ..., 233.03844, 572.7385 ,\n",
       "       179.01622])"
      ]
     },
     "execution_count": 10,
     "metadata": {},
     "output_type": "execute_result"
    }
   ],
   "source": [
    "y_pred"
   ]
  },
  {
   "cell_type": "code",
   "execution_count": 11,
   "id": "f91e6052",
   "metadata": {},
   "outputs": [
    {
     "data": {
      "text/html": [
       "<div>\n",
       "<style scoped>\n",
       "    .dataframe tbody tr th:only-of-type {\n",
       "        vertical-align: middle;\n",
       "    }\n",
       "\n",
       "    .dataframe tbody tr th {\n",
       "        vertical-align: top;\n",
       "    }\n",
       "\n",
       "    .dataframe thead th {\n",
       "        text-align: right;\n",
       "    }\n",
       "</style>\n",
       "<table border=\"1\" class=\"dataframe\">\n",
       "  <thead>\n",
       "    <tr style=\"text-align: right;\">\n",
       "      <th></th>\n",
       "      <th>y_Test</th>\n",
       "      <th>y_Predicted</th>\n",
       "    </tr>\n",
       "  </thead>\n",
       "  <tbody>\n",
       "    <tr>\n",
       "      <th>1924</th>\n",
       "      <td>504.5162</td>\n",
       "      <td>483.53968</td>\n",
       "    </tr>\n",
       "    <tr>\n",
       "      <th>27593</th>\n",
       "      <td>165.2616</td>\n",
       "      <td>168.28464</td>\n",
       "    </tr>\n",
       "    <tr>\n",
       "      <th>3155</th>\n",
       "      <td>595.7564</td>\n",
       "      <td>615.78048</td>\n",
       "    </tr>\n",
       "    <tr>\n",
       "      <th>2835</th>\n",
       "      <td>366.0311</td>\n",
       "      <td>366.18590</td>\n",
       "    </tr>\n",
       "    <tr>\n",
       "      <th>33102</th>\n",
       "      <td>3.8625</td>\n",
       "      <td>0.00000</td>\n",
       "    </tr>\n",
       "    <tr>\n",
       "      <th>32974</th>\n",
       "      <td>639.5363</td>\n",
       "      <td>717.34242</td>\n",
       "    </tr>\n",
       "    <tr>\n",
       "      <th>7124</th>\n",
       "      <td>324.7482</td>\n",
       "      <td>304.64948</td>\n",
       "    </tr>\n",
       "    <tr>\n",
       "      <th>33685</th>\n",
       "      <td>503.4377</td>\n",
       "      <td>499.62556</td>\n",
       "    </tr>\n",
       "    <tr>\n",
       "      <th>30406</th>\n",
       "      <td>1304.2800</td>\n",
       "      <td>1356.81340</td>\n",
       "    </tr>\n",
       "    <tr>\n",
       "      <th>36030</th>\n",
       "      <td>1299.1450</td>\n",
       "      <td>1306.36400</td>\n",
       "    </tr>\n",
       "    <tr>\n",
       "      <th>10918</th>\n",
       "      <td>335.5521</td>\n",
       "      <td>355.99760</td>\n",
       "    </tr>\n",
       "    <tr>\n",
       "      <th>11691</th>\n",
       "      <td>265.3990</td>\n",
       "      <td>268.98032</td>\n",
       "    </tr>\n",
       "    <tr>\n",
       "      <th>29819</th>\n",
       "      <td>815.2126</td>\n",
       "      <td>838.45112</td>\n",
       "    </tr>\n",
       "    <tr>\n",
       "      <th>573</th>\n",
       "      <td>288.6995</td>\n",
       "      <td>295.66964</td>\n",
       "    </tr>\n",
       "    <tr>\n",
       "      <th>1636</th>\n",
       "      <td>946.9320</td>\n",
       "      <td>979.01752</td>\n",
       "    </tr>\n",
       "    <tr>\n",
       "      <th>26212</th>\n",
       "      <td>1304.9300</td>\n",
       "      <td>1295.44400</td>\n",
       "    </tr>\n",
       "    <tr>\n",
       "      <th>1007</th>\n",
       "      <td>560.8511</td>\n",
       "      <td>587.71962</td>\n",
       "    </tr>\n",
       "    <tr>\n",
       "      <th>30903</th>\n",
       "      <td>1100.5480</td>\n",
       "      <td>1111.48140</td>\n",
       "    </tr>\n",
       "    <tr>\n",
       "      <th>11827</th>\n",
       "      <td>223.8219</td>\n",
       "      <td>238.78172</td>\n",
       "    </tr>\n",
       "    <tr>\n",
       "      <th>35937</th>\n",
       "      <td>1305.1970</td>\n",
       "      <td>1304.54760</td>\n",
       "    </tr>\n",
       "  </tbody>\n",
       "</table>\n",
       "</div>"
      ],
      "text/plain": [
       "          y_Test  y_Predicted\n",
       "1924    504.5162    483.53968\n",
       "27593   165.2616    168.28464\n",
       "3155    595.7564    615.78048\n",
       "2835    366.0311    366.18590\n",
       "33102     3.8625      0.00000\n",
       "32974   639.5363    717.34242\n",
       "7124    324.7482    304.64948\n",
       "33685   503.4377    499.62556\n",
       "30406  1304.2800   1356.81340\n",
       "36030  1299.1450   1306.36400\n",
       "10918   335.5521    355.99760\n",
       "11691   265.3990    268.98032\n",
       "29819   815.2126    838.45112\n",
       "573     288.6995    295.66964\n",
       "1636    946.9320    979.01752\n",
       "26212  1304.9300   1295.44400\n",
       "1007    560.8511    587.71962\n",
       "30903  1100.5480   1111.48140\n",
       "11827   223.8219    238.78172\n",
       "35937  1305.1970   1304.54760"
      ]
     },
     "execution_count": 11,
     "metadata": {},
     "output_type": "execute_result"
    }
   ],
   "source": [
    "predict_df = pd.DataFrame({\"y_Test\" : y_test, \"y_Predicted\" : y_pred})\n",
    "predict_df.head(20)"
   ]
  },
  {
   "cell_type": "code",
   "execution_count": 12,
   "id": "5f67eef7",
   "metadata": {},
   "outputs": [
    {
     "name": "stdout",
     "output_type": "stream",
     "text": [
      "mae: 16.886006052503173\n",
      "mse: 854.9472387415253\n",
      "rmse: 29.239480822024273\n"
     ]
    }
   ],
   "source": [
    "from sklearn.metrics import mean_absolute_error, mean_squared_error\n",
    "\n",
    "mae = mean_absolute_error(y_test, y_pred)\n",
    "mse = mean_squared_error(y_test, y_pred)\n",
    "rmse = mean_squared_error(y_test, y_pred, squared=False)\n",
    "\n",
    "print(f'mae: {mae}')\n",
    "print(f'mse: {mse}')\n",
    "print(f'rmse: {rmse}')"
   ]
  },
  {
   "cell_type": "markdown",
   "id": "3934f6a7",
   "metadata": {},
   "source": [
    "The R2 can be calculated directly with the score() method:"
   ]
  },
  {
   "cell_type": "code",
   "execution_count": 13,
   "id": "07a7db35",
   "metadata": {},
   "outputs": [
    {
     "data": {
      "text/plain": [
       "0.9951812053145545"
      ]
     },
     "execution_count": 13,
     "metadata": {},
     "output_type": "execute_result"
    }
   ],
   "source": [
    "regressor.score(x_test, y_test)"
   ]
  },
  {
   "cell_type": "code",
   "execution_count": 14,
   "id": "d6b85e46",
   "metadata": {},
   "outputs": [
    {
     "data": {
      "text/plain": [
       "count    51231.000000\n",
       "mean       524.559063\n",
       "std        423.491368\n",
       "min          0.000000\n",
       "25%        179.596550\n",
       "50%        392.251900\n",
       "75%        834.088200\n",
       "max       1379.842000\n",
       "Name: Active power, dtype: float64"
      ]
     },
     "execution_count": 14,
     "metadata": {},
     "output_type": "execute_result"
    }
   ],
   "source": [
    "y.describe()"
   ]
  },
  {
   "cell_type": "markdown",
   "id": "1edec721",
   "metadata": {},
   "source": [
    "#### Parameter Tuning"
   ]
  },
  {
   "cell_type": "code",
   "execution_count": 15,
   "id": "0bdd70f1",
   "metadata": {},
   "outputs": [],
   "source": [
    "error = []\n",
    "\n",
    "# Calculating MAE error for K values between 1 and 39\n",
    "for i in range(1, 40):\n",
    "    knn = KNeighborsRegressor(n_neighbors=i)\n",
    "    knn.fit(x_train, y_train)\n",
    "    pred_i = knn.predict(x_test)\n",
    "    mae = mean_absolute_error(y_test, pred_i)\n",
    "    error.append(mae)"
   ]
  },
  {
   "cell_type": "code",
   "execution_count": 16,
   "id": "ff840786",
   "metadata": {},
   "outputs": [
    {
     "name": "stdout",
     "output_type": "stream",
     "text": [
      "15.447241530069356\n",
      "28\n"
     ]
    }
   ],
   "source": [
    "import numpy as np \n",
    "\n",
    "print(min(error))               \n",
    "print(np.array(error).argmin()) "
   ]
  },
  {
   "cell_type": "markdown",
   "id": "92d96d9d",
   "metadata": {},
   "source": [
    "We started counting neighbors on 1, while arrays are 0-based, so the 28th index is 29 neighbors!\n",
    "\n",
    "This means that we need 29 neighbors to be able to predict a point with the lowest MAE error. \n",
    "We can execute the model and metrics again with 29 neighbors to compare results"
   ]
  },
  {
   "cell_type": "code",
   "execution_count": 19,
   "id": "90477913",
   "metadata": {},
   "outputs": [
    {
     "name": "stdout",
     "output_type": "stream",
     "text": [
      "r2: 0.9957239520895609, \n",
      "mae: 15.447241530069356 \n",
      "mse: 758.6534792192446 \n",
      "rmse: 27.54366495619718\n"
     ]
    }
   ],
   "source": [
    "knn_reg12 = KNeighborsRegressor(n_neighbors=29)\n",
    "knn_reg12.fit(x_train, y_train)\n",
    "y_pred12 = knn_reg12.predict(x_test)\n",
    "r2 = knn_reg12.score(x_test, y_test) \n",
    "\n",
    "mae12 = mean_absolute_error(y_test, y_pred12)\n",
    "mse12 = mean_squared_error(y_test, y_pred12)\n",
    "rmse12 = mean_squared_error(y_test, y_pred12, squared=False)\n",
    "print(f'r2: {r2}, \\nmae: {mae12} \\nmse: {mse12} \\nrmse: {rmse12}')"
   ]
  }
 ],
 "metadata": {
  "kernelspec": {
   "display_name": "Python 3",
   "language": "python",
   "name": "python3"
  },
  "language_info": {
   "codemirror_mode": {
    "name": "ipython",
    "version": 3
   },
   "file_extension": ".py",
   "mimetype": "text/x-python",
   "name": "python",
   "nbconvert_exporter": "python",
   "pygments_lexer": "ipython3",
   "version": "3.8.8"
  }
 },
 "nbformat": 4,
 "nbformat_minor": 5
}
