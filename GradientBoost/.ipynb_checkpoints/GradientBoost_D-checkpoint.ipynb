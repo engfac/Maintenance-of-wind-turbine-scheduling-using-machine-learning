{
 "cells": [
  {
   "cell_type": "code",
   "execution_count": 1,
   "id": "0644fd46",
   "metadata": {},
   "outputs": [],
   "source": [
    "# Necessary imports\n",
    "import numpy as np\n",
    "import pandas as pd\n",
    "import xgboost as xg\n",
    "from sklearn.model_selection import train_test_split\n",
    "from sklearn.metrics import mean_squared_error as MSE\n",
    "  "
   ]
  },
  {
   "cell_type": "code",
   "execution_count": 2,
   "id": "bb889248",
   "metadata": {},
   "outputs": [
    {
     "data": {
      "text/html": [
       "<div>\n",
       "<style scoped>\n",
       "    .dataframe tbody tr th:only-of-type {\n",
       "        vertical-align: middle;\n",
       "    }\n",
       "\n",
       "    .dataframe tbody tr th {\n",
       "        vertical-align: top;\n",
       "    }\n",
       "\n",
       "    .dataframe thead th {\n",
       "        text-align: right;\n",
       "    }\n",
       "</style>\n",
       "<table border=\"1\" class=\"dataframe\">\n",
       "  <thead>\n",
       "    <tr style=\"text-align: right;\">\n",
       "      <th></th>\n",
       "      <th>Wind speed</th>\n",
       "      <th>Generator speed</th>\n",
       "      <th>Blade angle</th>\n",
       "      <th>Wind direction</th>\n",
       "      <th>Ambient temperature</th>\n",
       "      <th>Active power</th>\n",
       "    </tr>\n",
       "    <tr>\n",
       "      <th>Time</th>\n",
       "      <th></th>\n",
       "      <th></th>\n",
       "      <th></th>\n",
       "      <th></th>\n",
       "      <th></th>\n",
       "      <th></th>\n",
       "    </tr>\n",
       "  </thead>\n",
       "  <tbody>\n",
       "    <tr>\n",
       "      <th>200101_0000</th>\n",
       "      <td>5.1826</td>\n",
       "      <td>11.3582</td>\n",
       "      <td>-0.7699</td>\n",
       "      <td>-340.9205</td>\n",
       "      <td>28.4515</td>\n",
       "      <td>212.3730</td>\n",
       "    </tr>\n",
       "    <tr>\n",
       "      <th>200101_0010</th>\n",
       "      <td>4.9545</td>\n",
       "      <td>11.1044</td>\n",
       "      <td>-0.7699</td>\n",
       "      <td>-345.9042</td>\n",
       "      <td>28.5000</td>\n",
       "      <td>198.8769</td>\n",
       "    </tr>\n",
       "    <tr>\n",
       "      <th>200101_0020</th>\n",
       "      <td>4.8302</td>\n",
       "      <td>10.6120</td>\n",
       "      <td>-0.7699</td>\n",
       "      <td>-339.1856</td>\n",
       "      <td>28.5209</td>\n",
       "      <td>173.8923</td>\n",
       "    </tr>\n",
       "    <tr>\n",
       "      <th>200101_0030</th>\n",
       "      <td>4.4468</td>\n",
       "      <td>10.0738</td>\n",
       "      <td>-0.7698</td>\n",
       "      <td>-332.9802</td>\n",
       "      <td>28.4043</td>\n",
       "      <td>148.1184</td>\n",
       "    </tr>\n",
       "    <tr>\n",
       "      <th>200101_0040</th>\n",
       "      <td>4.9901</td>\n",
       "      <td>10.9070</td>\n",
       "      <td>-0.7699</td>\n",
       "      <td>-332.9802</td>\n",
       "      <td>28.3688</td>\n",
       "      <td>188.0684</td>\n",
       "    </tr>\n",
       "  </tbody>\n",
       "</table>\n",
       "</div>"
      ],
      "text/plain": [
       "             Wind speed  Generator speed  Blade angle  Wind direction  \\\n",
       "Time                                                                    \n",
       "200101_0000      5.1826          11.3582      -0.7699       -340.9205   \n",
       "200101_0010      4.9545          11.1044      -0.7699       -345.9042   \n",
       "200101_0020      4.8302          10.6120      -0.7699       -339.1856   \n",
       "200101_0030      4.4468          10.0738      -0.7698       -332.9802   \n",
       "200101_0040      4.9901          10.9070      -0.7699       -332.9802   \n",
       "\n",
       "             Ambient temperature  Active power  \n",
       "Time                                            \n",
       "200101_0000              28.4515      212.3730  \n",
       "200101_0010              28.5000      198.8769  \n",
       "200101_0020              28.5209      173.8923  \n",
       "200101_0030              28.4043      148.1184  \n",
       "200101_0040              28.3688      188.0684  "
      ]
     },
     "execution_count": 2,
     "metadata": {},
     "output_type": "execute_result"
    }
   ],
   "source": [
    "# Load the data\n",
    "df=pd.read_csv('P_dataset.csv',index_col='Time',parse_dates=True)\n",
    "df.head(5) "
   ]
  },
  {
   "cell_type": "code",
   "execution_count": 3,
   "id": "9a423ee8",
   "metadata": {},
   "outputs": [],
   "source": [
    "x = df.drop(\"Active power\", axis = 1)\n",
    "y = df[\"Active power\"] \n",
    "\n",
    "from sklearn.model_selection import train_test_split\n",
    "\n",
    "# Splitting\n",
    "x_train, x_test, y_train, y_test = train_test_split(x, y, test_size = 0.30, random_state = 123)"
   ]
  },
  {
   "cell_type": "code",
   "execution_count": 5,
   "id": "aeb5d3ab",
   "metadata": {},
   "outputs": [],
   "source": [
    "from sklearn.datasets import make_regression\n",
    "from sklearn.ensemble import GradientBoostingRegressor\n",
    "\n",
    "# Instantiation\n",
    "reg = GradientBoostingRegressor(random_state=0)"
   ]
  },
  {
   "cell_type": "code",
   "execution_count": 7,
   "id": "eafa020a",
   "metadata": {},
   "outputs": [
    {
     "data": {
      "text/html": [
       "<style>#sk-container-id-1 {color: black;background-color: white;}#sk-container-id-1 pre{padding: 0;}#sk-container-id-1 div.sk-toggleable {background-color: white;}#sk-container-id-1 label.sk-toggleable__label {cursor: pointer;display: block;width: 100%;margin-bottom: 0;padding: 0.3em;box-sizing: border-box;text-align: center;}#sk-container-id-1 label.sk-toggleable__label-arrow:before {content: \"▸\";float: left;margin-right: 0.25em;color: #696969;}#sk-container-id-1 label.sk-toggleable__label-arrow:hover:before {color: black;}#sk-container-id-1 div.sk-estimator:hover label.sk-toggleable__label-arrow:before {color: black;}#sk-container-id-1 div.sk-toggleable__content {max-height: 0;max-width: 0;overflow: hidden;text-align: left;background-color: #f0f8ff;}#sk-container-id-1 div.sk-toggleable__content pre {margin: 0.2em;color: black;border-radius: 0.25em;background-color: #f0f8ff;}#sk-container-id-1 input.sk-toggleable__control:checked~div.sk-toggleable__content {max-height: 200px;max-width: 100%;overflow: auto;}#sk-container-id-1 input.sk-toggleable__control:checked~label.sk-toggleable__label-arrow:before {content: \"▾\";}#sk-container-id-1 div.sk-estimator input.sk-toggleable__control:checked~label.sk-toggleable__label {background-color: #d4ebff;}#sk-container-id-1 div.sk-label input.sk-toggleable__control:checked~label.sk-toggleable__label {background-color: #d4ebff;}#sk-container-id-1 input.sk-hidden--visually {border: 0;clip: rect(1px 1px 1px 1px);clip: rect(1px, 1px, 1px, 1px);height: 1px;margin: -1px;overflow: hidden;padding: 0;position: absolute;width: 1px;}#sk-container-id-1 div.sk-estimator {font-family: monospace;background-color: #f0f8ff;border: 1px dotted black;border-radius: 0.25em;box-sizing: border-box;margin-bottom: 0.5em;}#sk-container-id-1 div.sk-estimator:hover {background-color: #d4ebff;}#sk-container-id-1 div.sk-parallel-item::after {content: \"\";width: 100%;border-bottom: 1px solid gray;flex-grow: 1;}#sk-container-id-1 div.sk-label:hover label.sk-toggleable__label {background-color: #d4ebff;}#sk-container-id-1 div.sk-serial::before {content: \"\";position: absolute;border-left: 1px solid gray;box-sizing: border-box;top: 0;bottom: 0;left: 50%;z-index: 0;}#sk-container-id-1 div.sk-serial {display: flex;flex-direction: column;align-items: center;background-color: white;padding-right: 0.2em;padding-left: 0.2em;position: relative;}#sk-container-id-1 div.sk-item {position: relative;z-index: 1;}#sk-container-id-1 div.sk-parallel {display: flex;align-items: stretch;justify-content: center;background-color: white;position: relative;}#sk-container-id-1 div.sk-item::before, #sk-container-id-1 div.sk-parallel-item::before {content: \"\";position: absolute;border-left: 1px solid gray;box-sizing: border-box;top: 0;bottom: 0;left: 50%;z-index: -1;}#sk-container-id-1 div.sk-parallel-item {display: flex;flex-direction: column;z-index: 1;position: relative;background-color: white;}#sk-container-id-1 div.sk-parallel-item:first-child::after {align-self: flex-end;width: 50%;}#sk-container-id-1 div.sk-parallel-item:last-child::after {align-self: flex-start;width: 50%;}#sk-container-id-1 div.sk-parallel-item:only-child::after {width: 0;}#sk-container-id-1 div.sk-dashed-wrapped {border: 1px dashed gray;margin: 0 0.4em 0.5em 0.4em;box-sizing: border-box;padding-bottom: 0.4em;background-color: white;}#sk-container-id-1 div.sk-label label {font-family: monospace;font-weight: bold;display: inline-block;line-height: 1.2em;}#sk-container-id-1 div.sk-label-container {text-align: center;}#sk-container-id-1 div.sk-container {/* jupyter's `normalize.less` sets `[hidden] { display: none; }` but bootstrap.min.css set `[hidden] { display: none !important; }` so we also need the `!important` here to be able to override the default hidden behavior on the sphinx rendered scikit-learn.org. See: https://github.com/scikit-learn/scikit-learn/issues/21755 */display: inline-block !important;position: relative;}#sk-container-id-1 div.sk-text-repr-fallback {display: none;}</style><div id=\"sk-container-id-1\" class=\"sk-top-container\"><div class=\"sk-text-repr-fallback\"><pre>GradientBoostingRegressor(random_state=0)</pre><b>In a Jupyter environment, please rerun this cell to show the HTML representation or trust the notebook. <br />On GitHub, the HTML representation is unable to render, please try loading this page with nbviewer.org.</b></div><div class=\"sk-container\" hidden><div class=\"sk-item\"><div class=\"sk-estimator sk-toggleable\"><input class=\"sk-toggleable__control sk-hidden--visually\" id=\"sk-estimator-id-1\" type=\"checkbox\" checked><label for=\"sk-estimator-id-1\" class=\"sk-toggleable__label sk-toggleable__label-arrow\">GradientBoostingRegressor</label><div class=\"sk-toggleable__content\"><pre>GradientBoostingRegressor(random_state=0)</pre></div></div></div></div></div>"
      ],
      "text/plain": [
       "GradientBoostingRegressor(random_state=0)"
      ]
     },
     "execution_count": 7,
     "metadata": {},
     "output_type": "execute_result"
    }
   ],
   "source": [
    "# Fitting the model\n",
    "reg.fit(x_train, y_train)"
   ]
  },
  {
   "cell_type": "code",
   "execution_count": 7,
   "id": "292c4085",
   "metadata": {},
   "outputs": [],
   "source": [
    "# Predict the model\n",
    "pred = xgb_r.predict(x_test)"
   ]
  },
  {
   "cell_type": "code",
   "execution_count": 10,
   "id": "b18028ec",
   "metadata": {},
   "outputs": [
    {
     "data": {
      "text/plain": [
       "524.5590630868041"
      ]
     },
     "execution_count": 10,
     "metadata": {},
     "output_type": "execute_result"
    }
   ],
   "source": [
    "df['Active power'].mean()"
   ]
  },
  {
   "cell_type": "code",
   "execution_count": 12,
   "id": "e76136c1",
   "metadata": {},
   "outputs": [
    {
     "name": "stdout",
     "output_type": "stream",
     "text": [
      "R2-score: 0.9959477249589611\n",
      "RMSE: 27.131170891291323\n",
      "MAE: 17.47391573012177\n",
      "MSE: 736.1004339324535\n"
     ]
    }
   ],
   "source": [
    "from sklearn.metrics import accuracy_score,r2_score,mean_absolute_error, mean_squared_error\n",
    "\n",
    "print('R2-score:',r2_score(y_test,pred))\n",
    "print('RMSE:',np.sqrt(mean_squared_error(y_test,pred)))\n",
    "print('MAE:',mean_absolute_error(y_test, pred))\n",
    "print('MSE:',mean_squared_error(y_test, pred))"
   ]
  },
  {
   "cell_type": "markdown",
   "id": "fa428ea3",
   "metadata": {},
   "source": [
    "xgboost does not care much about the scale of the input features"
   ]
  }
 ],
 "metadata": {
  "kernelspec": {
   "display_name": "Python 3",
   "language": "python",
   "name": "python3"
  },
  "language_info": {
   "codemirror_mode": {
    "name": "ipython",
    "version": 3
   },
   "file_extension": ".py",
   "mimetype": "text/x-python",
   "name": "python",
   "nbconvert_exporter": "python",
   "pygments_lexer": "ipython3",
   "version": "3.8.8"
  }
 },
 "nbformat": 4,
 "nbformat_minor": 5
}
